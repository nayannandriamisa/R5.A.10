{
 "cells": [
  {
   "cell_type": "markdown",
   "metadata": {},
   "source": [
    "## Compte rendu R5.A.10, ANDRIAMISA Nayann, Groupe Nayru"
   ]
  },
  {
   "cell_type": "markdown",
   "metadata": {},
   "source": [
    "Dans ce fichier, nous verrons un compte rendu de la ressource du BUT informatique (R5.A.10) portant sur les nouvelles bases de données.    \n",
    "Elle est découpée en 3 grandes parties qui sont respectivement, sur la dénormalisation d'un schéma relationnel de tables et puis d'études des Systèmes de Gestion de Base de Données (SGBD) **Redis** et **MongoDB**. "
   ]
  },
  {
   "cell_type": "code",
   "execution_count": null,
   "metadata": {},
   "outputs": [],
   "source": []
  },
  {
   "cell_type": "markdown",
   "metadata": {},
   "source": [
    "## Sommaire :\n",
    "\n",
    "<ol>\n",
    "    <li><strong>Dénormalisation</strong></li>\n",
    "    <ol>\n",
    "        <li>Dénormalisation d'un schéma relationnel </li>\n",
    "        <li>Application de la représentation JSON</li>\n",
    "    </ol>\n",
    "    <li><strong>Redis</strong></li>\n",
    "    <ol>\n",
    "        <li>Bloom filters </li>\n",
    "        <li>SET_PY</li>\n",
    "        <li>PUB/SUB</li>\n",
    "    </ol>\n",
    "    <li><strong>MongoDB</strong></li>\n",
    "    <ol>\n",
    "        <li>Bloom filters </li>\n",
    "        <li>SET_PY</li>\n",
    "        <li>PUB/SUB</li>\n",
    "    </ol>\n",
    "</ol>  "
   ]
  },
  {
   "cell_type": "markdown",
   "metadata": {},
   "source": [
    "## Dénormalisation :"
   ]
  },
  {
   "cell_type": "markdown",
   "metadata": {},
   "source": [
    "Il s'agit de faire une sorte de fusion/factorisation d'un ensemble de tables SQL en une seule pour avoir une \"structure à plat\" afin de minimiser les jointures nécessaires aux opérations.    \n",
    "Le problème qui se pose est donc de savoir comment passer d'un schéma relationnel en SQL à un modèle NoSQL qui pourrait être implémenté avec nos gestionnaires.    \n",
    "<br>\n",
    "Il y a certains critères à respecter dans la fusion dans le cas d'une dénormalisation : \n",
    "- Les données qui sont fréquemment intérrogées doivent être rassemblées\n",
    "- Toutes les données d'un entité doivent être indépendantes\n",
    "- Une association avec des relations 1+n des deux côtés\n",
    "- Le taux de mise à jour est le même\n",
    "\n",
    "Une fois un schéma relationnel dénormalisé, pour être utilisé il convient de l'obetnir sous une représentation JSON."
   ]
  },
  {
   "cell_type": "markdown",
   "metadata": {},
   "source": [
    "### <u>Exemple/exercice :</u>"
   ]
  },
  {
   "cell_type": "markdown",
   "metadata": {},
   "source": [
    "#### 1. Dénormalisation d'un schéma relationnel SQL"
   ]
  },
  {
   "cell_type": "markdown",
   "metadata": {},
   "source": [
    "Voici un schéma relationnel en SQL, qui a déjà été étudié par les étudiants de 1ère année de BUT informatique pour la ressource ***Introduction aux bases de données et SQL*** :\n",
    "<br><br>\n",
    "<code>\n",
    "**AVIONS** (*NumAv, NomAv, CapAv, VilleAv*);<br>\n",
    "**PILOTES** (*NumPil, NomPil, NaisPil, VillePil*);<br>\n",
    "**CLIENTS**(*NumCl, NomCl, NumRueCl, NomRueCl, CodePosteCl, VilleCl*);<br>\n",
    "**VOLS**(*NumVol, VilleD, VilleA, DateD, HD, DateA, HA, NumPil, NumAv*);<br>\n",
    "**DEFCLASSES**(*NumVol, Classe, CoeffPrix*);<br>\n",
    "**RESERVATIONS** (*NumCl, NumVol, Classe, NbPlaces*);<br>\n",
    "</code>\n",
    "<br>\n",
    "Et afin de procéder à une dénormalisation de ce schéma relationnel, nous avons fusionné les tables **VOLS**, **DEFCLASSES** et **RESERVATIONS** par rapport à l'attribut \"*NumVol*\".    \n",
    "Voici le résultat obtenu après dénormalisation :\n",
    "\n",
    "<code>\n",
    "**AVIONS** (*NumAv, NomAv, CapAv, VilleAv*);<br>\n",
    "**PILOTES** (*NumPil, NomPil, NaisPil, VillePil*);<br>\n",
    "**CLIENTS**(*NumCl, NomCl, NumRueCl, NomRueCl, CodePosteCl, VilleCl*);<br>\n",
    "**VOLS**(*NumVol, VilleD, VilleA, DateD, HD, DateA, HA, NumPil, NumAv, Classe, CoeffPrix, NumCl, NbPlaces*)\n",
    "</code>"
   ]
  },
  {
   "cell_type": "markdown",
   "metadata": {},
   "source": [
    "#### 2. Application de la représentation JSON"
   ]
  },
  {
   "cell_type": "markdown",
   "metadata": {},
   "source": [
    "Nous allons donc commencer par mettre les fichiers dans le bon format, et devoir passer d'un document .txt à un document JSON."
   ]
  },
  {
   "cell_type": "markdown",
   "metadata": {},
   "source": [
    "##### Importations et installations"
   ]
  },
  {
   "cell_type": "code",
   "execution_count": 2,
   "metadata": {},
   "outputs": [],
   "source": [
    "import pandas as pd\n",
    "import json"
   ]
  },
  {
   "cell_type": "markdown",
   "metadata": {},
   "source": [
    "##### On va commencer par les convertir en fichier .csv\n",
    "En utilisant la fonction <code>to_csv()</code> de la libraire Python : **Pandas**"
   ]
  },
  {
   "cell_type": "code",
   "execution_count": 4,
   "metadata": {},
   "outputs": [],
   "source": [
    "avions = pd.read_csv('bddPilotes/AVIONS.txt', sep='\\t')\n",
    "avions.columns = [\"NumAv\", \"NomAv\", \"CapAv\", \"VilleAv\"]\n",
    "avions.to_csv('bddPilotes/CSV/AVIONS.csv', index=None)\n",
    "\n",
    "pilotes = pd.read_csv('bddPilotes/PILOTES.txt', sep='\\t')\n",
    "pilotes.columns = [\"NumPil\",\"NomPil\",\"NaisPil\",\"VillePil\"]\n",
    "pilotes.to_csv('bddPilotes/CSV/PILOTES.csv', index=None)\n",
    "\n",
    "clients = pd.read_csv('bddPilotes/CLIENTS.txt', sep='\\t')\n",
    "clients.columns = [\"NumCl\", \"NomCl\", \"NumRueCl\", \"NomRueCl\", \"CodePosteCl\", \"VilleCl\"]\n",
    "clients.to_csv('bddPilotes/CSV/CLIENTS.csv', index=None)\n",
    "\n",
    "vols = pd.read_csv('bddPilotes/VOLS.txt', sep='\\t')\n",
    "vols.columns = [\"NumVol\",\"VilleD\",\"VilleA\", \"DateD\",\"HD\",\"DateA\",\"HA\", \"NumPil\", \"NumAv\"]\n",
    "vols.to_csv('bddPilotes/CSV/VOLS.csv', index=None)\n",
    "\n",
    "defclasses = pd.read_csv('bddPilotes/DEFCLASSES.txt', sep='\\t')\n",
    "defclasses.columns = [\"NumVol\",\"Classe\", \"CoeffPrix\"]\n",
    "defclasses.to_csv('bddPilotes/CSV/DEFCLASSES.csv', index=None)\n",
    "\n",
    "reservations = pd.read_csv('bddPilotes/RESERVATIONS.txt', sep='\\t')\n",
    "reservations.columns = [\"NumCl\", \"NumVol\" ,\"Classe\", \"NbPlaces\"]\n",
    "reservations.to_csv('bddPilotes/CSV/RESERVATIONS.csv', index=None)"
   ]
  },
  {
   "cell_type": "markdown",
   "metadata": {},
   "source": [
    "Puis nous allons effectuer la jointure sur les classes **VOLS**, **DEFCLASSES** et **RESERVATIONS** en utilisant la fonction <code>merge()</code> pour l'étape de la dénormalisation.    \n",
    "Et nous finirons par convertir ces fichiers .csv au format JSON grâce à la fonction <code>to_json()</code>"
   ]
  },
  {
   "cell_type": "code",
   "execution_count": 7,
   "metadata": {},
   "outputs": [],
   "source": [
    "avions = pd.read_csv('bddPilotes/CSV/AVIONS.csv')\n",
    "pilotes = pd.read_csv('bddPilotes/CSV/PILOTES.csv')\n",
    "clients = pd.read_csv('bddPilotes/CSV/CLIENTS.csv')\n",
    "vols = pd.read_csv('bddPilotes/CSV/VOLS.csv')\n",
    "defclasses = pd.read_csv('bddPilotes/CSV/DEFCLASSES.csv')\n",
    "reservations = pd.read_csv('bddPilotes/CSV/RESERVATIONS.csv')\n",
    "\n",
    "fusion_vols_defclasses = pd.merge(vols, defclasses, how='inner', on=[\"NumVol\"])\n",
    "fusion_vols_defclasses_reservations = pd.merge(fusion_vols_defclasses, reservations, how='inner', on=[\"NumVol\"])\n",
    "fusion_vols_defclasses_reservations.to_csv('bddPilotes/CSV/VolsClassesReservations.csv', index=None)\n",
    "\n",
    "#print(fusion_vols_defclasses_reservations.head(50))\n",
    "\n",
    "avions.to_json('bddPilotes/JSON/AVIONS.json', orient=\"records\")\n",
    "pilotes.to_json('bddPilotes/JSON/PILOTES.json', orient=\"records\")\n",
    "clients.to_json('bddPilotes/JSON/CLIENTS.json', orient=\"records\")\n",
    "vols.to_json('bddPilotes/JSON/VOLS.json', orient=\"records\")\n",
    "defclasses.to_json('bddPilotes/JSON/DEFCLASSES.json', orient=\"records\")\n",
    "reservations.to_json('bddPilotes/JSON/RESERVATIONS.json', orient=\"records\")\n",
    "\n",
    "fusion = pd.read_csv('bddPilotes/CSV/VolsClassesReservations.csv')\n",
    "fusion.to_json('bddPilotes/JSON/VolsClassesReservations.json', orient=\"records\")"
   ]
  },
  {
   "cell_type": "code",
   "execution_count": 12,
   "metadata": {},
   "outputs": [
    {
     "name": "stdout",
     "output_type": "stream",
     "text": [
      "[{'NumAv': 250, 'NomAv': 'Boeing 747', 'CapAv': 500, 'VilleAv': 'Paris'}, {'NumAv': 269, 'NomAv': 'Boeing 737', 'CapAv': 300, 'VilleAv': 'Paris'}, {'NumAv': 240, 'NomAv': 'Boeing 737', 'CapAv': 300, 'VilleAv': 'Paris'}, {'NumAv': 256, 'NomAv': 'Boeing 747', 'CapAv': 220, 'VilleAv': 'Paris '}, {'NumAv': 722, 'NomAv': 'Boeing 737', 'CapAv': 350, 'VilleAv': 'Toulon'}, {'NumAv': 140, 'NomAv': 'Boeing 727', 'CapAv': 150, 'VilleAv': 'Strasbourg'}, {'NumAv': 401, 'NomAv': 'Boeing 727', 'CapAv': 150, 'VilleAv': 'Dijon'}, {'NumAv': 820, 'NomAv': 'Boeing 737', 'CapAv': 350, 'VilleAv': 'Ajaccio'}, {'NumAv': 840, 'NomAv': 'Boeing 727', 'CapAv': 150, 'VilleAv': 'Montpellier'}, {'NumAv': 205, 'NomAv': 'Boeing 747', 'CapAv': 350, 'VilleAv': 'Metz'}, {'NumAv': 640, 'NomAv': 'Boeing 727', 'CapAv': 150, 'VilleAv': 'Nantes'}, {'NumAv': 207, 'NomAv': 'Boeing 737', 'CapAv': 350, 'VilleAv': 'Nimes'}, {'NumAv': 202, 'NomAv': 'Falcon 900', 'CapAv': 30, 'VilleAv': 'Nice'}, {'NumAv': 320, 'NomAv': 'Falcon 900', 'CapAv': 30, 'VilleAv': 'Avignon'}, {'NumAv': 210, 'NomAv': 'Dc10', 'CapAv': 200, 'VilleAv': 'Nantes'}, {'NumAv': 440, 'NomAv': 'Concorde', 'CapAv': 100, 'VilleAv': 'Marseille'}, {'NumAv': 614, 'NomAv': 'Dc20', 'CapAv': 255, 'VilleAv': 'Beyrouth'}, {'NumAv': 615, 'NomAv': 'Caravelle', 'CapAv': 80, 'VilleAv': 'Alger'}, {'NumAv': 660, 'NomAv': 'Dc20', 'CapAv': 295, 'VilleAv': 'Alger'}, {'NumAv': 220, 'NomAv': 'Concorde', 'CapAv': 100, 'VilleAv': 'New York'}, {'NumAv': 225, 'NomAv': 'Tupolev', 'CapAv': 150, 'VilleAv': 'Pekin'}, {'NumAv': 325, 'NomAv': 'Antonov', 'CapAv': 500, 'VilleAv': 'Marseille'}, {'NumAv': 122, 'NomAv': 'Falcon 900', 'CapAv': 40, 'VilleAv': 'Avignon'}, {'NumAv': 620, 'NomAv': 'Antonov', 'CapAv': 580, 'VilleAv': 'Moscou'}, {'NumAv': 801, 'NomAv': 'Concorde', 'CapAv': 100, 'VilleAv': 'Rome'}, {'NumAv': 811, 'NomAv': 'Caravelle', 'CapAv': 380, 'VilleAv': 'Naples'}, {'NumAv': 311, 'NomAv': 'Dc10', 'CapAv': 265, 'VilleAv': 'Ankara'}, {'NumAv': 411, 'NomAv': 'Tupolev', 'CapAv': 130, 'VilleAv': 'Istanbul'}, {'NumAv': 511, 'NomAv': 'Airbus A320', 'CapAv': 280, 'VilleAv': 'Toulouse'}, {'NumAv': 525, 'NomAv': 'Airbus A320', 'CapAv': 270, 'VilleAv': 'Paris'}, {'NumAv': 535, 'NomAv': 'Airbus A330', 'CapAv': 370, 'VilleAv': 'Marseille'}, {'NumAv': 415, 'NomAv': 'Airbus A330', 'CapAv': 350, 'VilleAv': 'Nice'}, {'NumAv': 560, 'NomAv': 'Airbus A320', 'CapAv': 250, 'VilleAv': 'Nice'}, {'NumAv': 715, 'NomAv': 'Airbus A310', 'CapAv': 150, 'VilleAv': 'Ajaccio'}, {'NumAv': 915, 'NomAv': 'Airbus A340', 'CapAv': 350, 'VilleAv': 'Nice'}, {'NumAv': 315, 'NomAv': 'Airbus A340', 'CapAv': 350, 'VilleAv': 'Marseille'}, {'NumAv': 101, 'NomAv': 'Boeing 707', 'CapAv': 350, 'VilleAv': 'Beyrouth'}]\n",
      "[{'NumPil': 2020, 'NomPil': 'Lapalice', 'NaisPil': 1961, 'VillePil': 'Marseille'}, {'NumPil': 2777, 'NomPil': 'Larousse', 'NaisPil': 1963, 'VillePil': 'Toulouse'}, {'NumPil': 2890, 'NomPil': 'Latour', 'NaisPil': 1958, 'VillePil': 'Montpellier'}, {'NumPil': 3000, 'NomPil': 'Delaroche', 'NaisPil': 1960, 'VillePil': 'Nice'}, {'NumPil': 3044, 'NomPil': 'Delavigne', 'NaisPil': 1970, 'VillePil': 'Nice'}, {'NumPil': 3687, 'NomPil': 'Delalande', 'NaisPil': 1966, 'VillePil': 'Nice'}, {'NumPil': 3321, 'NomPil': 'Delacroix', 'NaisPil': 1957, 'VillePil': 'Paris'}, {'NumPil': 4000, 'NomPil': 'Duparc', 'NaisPil': 1955, 'VillePil': 'Nice'}, {'NumPil': 4010, 'NomPil': 'Dupre', 'NaisPil': 1945, 'VillePil': 'Paris'}, {'NumPil': 4020, 'NomPil': 'Duval', 'NaisPil': 1944, 'VillePil': 'Marseille'}, {'NumPil': 4030, 'NomPil': 'Dupont', 'NaisPil': 1943, 'VillePil': 'Nices'}, {'NumPil': 4040, 'NomPil': 'Dupuis', 'NaisPil': 1960, 'VillePil': 'Nantes'}, {'NumPil': 4050, 'NomPil': 'Dumas', 'NaisPil': 1949, 'VillePil': 'Marseille'}, {'NumPil': 4060, 'NomPil': 'Dubois', 'NaisPil': 1960, 'VillePil': 'Paris'}, {'NumPil': 4070, 'NomPil': 'Duchemin', 'NaisPil': 1965, 'VillePil': 'Marseille'}, {'NumPil': 4080, 'NomPil': 'Durand', 'NaisPil': 1950, 'VillePil': 'Beyrouth'}, {'NumPil': 4090, 'NomPil': 'Duclos', 'NaisPil': 1940, 'VillePil': 'Toulouse'}, {'NumPil': 4111, 'NomPil': 'Dujardin', 'NaisPil': 1940, 'VillePil': 'Colmar'}, {'NumPil': 5050, 'NomPil': 'Leblanc', 'NaisPil': 1960, 'VillePil': 'Marseille'}, {'NumPil': 5060, 'NomPil': 'Ledru', 'NaisPil': 1959, 'VillePil': 'Nice'}, {'NumPil': 5070, 'NomPil': 'Legrand', 'NaisPil': 1945, 'VillePil': 'Toulon'}, {'NumPil': 5080, 'NomPil': 'Leroy', 'NaisPil': 1970, 'VillePil': 'Paris'}, {'NumPil': 5090, 'NomPil': 'Lebon', 'NaisPil': 1938, 'VillePil': 'Lyon'}, {'NumPil': 5456, 'NomPil': 'Lejoli', 'NaisPil': 1949, 'VillePil': 'Marseille'}]\n",
      "[{'NumVol': 'V141', 'VilleD': 'Amsterdam', 'VilleA': 'Marseille', 'DateD': '1/04/07', 'HD': '23:20', 'DateA': '2/04/07', 'HA': '1:10', 'NumPil': 5050, 'NumAv': 101, 'Classe_x': 'Economique', 'CoeffPrix': 4, 'NumCl': 1001, 'Classe_y': 'Business', 'NbPlaces': 3}, {'NumVol': 'V141', 'VilleD': 'Amsterdam', 'VilleA': 'Marseille', 'DateD': '1/04/07', 'HD': '23:20', 'DateA': '2/04/07', 'HA': '1:10', 'NumPil': 5050, 'NumAv': 101, 'Classe_x': 'Economique', 'CoeffPrix': 4, 'NumCl': 1008, 'Classe_y': 'Touriste', 'NbPlaces': 2}, {'NumVol': 'V141', 'VilleD': 'Amsterdam', 'VilleA': 'Marseille', 'DateD': '1/04/07', 'HD': '23:20', 'DateA': '2/04/07', 'HA': '1:10', 'NumPil': 5050, 'NumAv': 101, 'Classe_x': 'Economique', 'CoeffPrix': 4, 'NumCl': 1011, 'Classe_y': 'Economique', 'NbPlaces': 8}, {'NumVol': 'V141', 'VilleD': 'Amsterdam', 'VilleA': 'Marseille', 'DateD': '1/04/07', 'HD': '23:20', 'DateA': '2/04/07', 'HA': '1:10', 'NumPil': 5050, 'NumAv': 101, 'Classe_x': 'Touriste', 'CoeffPrix': 3, 'NumCl': 1001, 'Classe_y': 'Business', 'NbPlaces': 3}, {'NumVol': 'V141', 'VilleD': 'Amsterdam', 'VilleA': 'Marseille', 'DateD': '1/04/07', 'HD': '23:20', 'DateA': '2/04/07', 'HA': '1:10', 'NumPil': 5050, 'NumAv': 101, 'Classe_x': 'Touriste', 'CoeffPrix': 3, 'NumCl': 1008, 'Classe_y': 'Touriste', 'NbPlaces': 2}, {'NumVol': 'V141', 'VilleD': 'Amsterdam', 'VilleA': 'Marseille', 'DateD': '1/04/07', 'HD': '23:20', 'DateA': '2/04/07', 'HA': '1:10', 'NumPil': 5050, 'NumAv': 101, 'Classe_x': 'Touriste', 'CoeffPrix': 3, 'NumCl': 1011, 'Classe_y': 'Economique', 'NbPlaces': 8}, {'NumVol': 'V141', 'VilleD': 'Amsterdam', 'VilleA': 'Marseille', 'DateD': '1/04/07', 'HD': '23:20', 'DateA': '2/04/07', 'HA': '1:10', 'NumPil': 5050, 'NumAv': 101, 'Classe_x': 'Business', 'CoeffPrix': 3, 'NumCl': 1001, 'Classe_y': 'Business', 'NbPlaces': 3}, {'NumVol': 'V141', 'VilleD': 'Amsterdam', 'VilleA': 'Marseille', 'DateD': '1/04/07', 'HD': '23:20', 'DateA': '2/04/07', 'HA': '1:10', 'NumPil': 5050, 'NumAv': 101, 'Classe_x': 'Business', 'CoeffPrix': 3, 'NumCl': 1008, 'Classe_y': 'Touriste', 'NbPlaces': 2}, {'NumVol': 'V141', 'VilleD': 'Amsterdam', 'VilleA': 'Marseille', 'DateD': '1/04/07', 'HD': '23:20', 'DateA': '2/04/07', 'HA': '1:10', 'NumPil': 5050, 'NumAv': 101, 'Classe_x': 'Business', 'CoeffPrix': 3, 'NumCl': 1011, 'Classe_y': 'Economique', 'NbPlaces': 8}, {'NumVol': 'V150', 'VilleD': 'Amsterdam', 'VilleA': 'Marseille', 'DateD': '10/04/07', 'HD': '23:20', 'DateA': '11/04/07', 'HA': '1:10', 'NumPil': 5050, 'NumAv': 101, 'Classe_x': 'Economique', 'CoeffPrix': 4, 'NumCl': 1020, 'Classe_y': 'Business', 'NbPlaces': 1}, {'NumVol': 'V150', 'VilleD': 'Amsterdam', 'VilleA': 'Marseille', 'DateD': '10/04/07', 'HD': '23:20', 'DateA': '11/04/07', 'HA': '1:10', 'NumPil': 5050, 'NumAv': 101, 'Classe_x': 'Economique', 'CoeffPrix': 4, 'NumCl': 1027, 'Classe_y': 'Business', 'NbPlaces': 1}, {'NumVol': 'V150', 'VilleD': 'Amsterdam', 'VilleA': 'Marseille', 'DateD': '10/04/07', 'HD': '23:20', 'DateA': '11/04/07', 'HA': '1:10', 'NumPil': 5050, 'NumAv': 101, 'Classe_x': 'Economique', 'CoeffPrix': 4, 'NumCl': 1001, 'Classe_y': 'Touriste', 'NbPlaces': 1}, {'NumVol': 'V150', 'VilleD': 'Amsterdam', 'VilleA': 'Marseille', 'DateD': '10/04/07', 'HD': '23:20', 'DateA': '11/04/07', 'HA': '1:10', 'NumPil': 5050, 'NumAv': 101, 'Classe_x': 'Economique', 'CoeffPrix': 4, 'NumCl': 1029, 'Classe_y': 'Economique', 'NbPlaces': 7}, {'NumVol': 'V150', 'VilleD': 'Amsterdam', 'VilleA': 'Marseille', 'DateD': '10/04/07', 'HD': '23:20', 'DateA': '11/04/07', 'HA': '1:10', 'NumPil': 5050, 'NumAv': 101, 'Classe_x': 'Touriste', 'CoeffPrix': 3, 'NumCl': 1020, 'Classe_y': 'Business', 'NbPlaces': 1}, {'NumVol': 'V150', 'VilleD': 'Amsterdam', 'VilleA': 'Marseille', 'DateD': '10/04/07', 'HD': '23:20', 'DateA': '11/04/07', 'HA': '1:10', 'NumPil': 5050, 'NumAv': 101, 'Classe_x': 'Touriste', 'CoeffPrix': 3, 'NumCl': 1027, 'Classe_y': 'Business', 'NbPlaces': 1}, {'NumVol': 'V150', 'VilleD': 'Amsterdam', 'VilleA': 'Marseille', 'DateD': '10/04/07', 'HD': '23:20', 'DateA': '11/04/07', 'HA': '1:10', 'NumPil': 5050, 'NumAv': 101, 'Classe_x': 'Touriste', 'CoeffPrix': 3, 'NumCl': 1001, 'Classe_y': 'Touriste', 'NbPlaces': 1}, {'NumVol': 'V150', 'VilleD': 'Amsterdam', 'VilleA': 'Marseille', 'DateD': '10/04/07', 'HD': '23:20', 'DateA': '11/04/07', 'HA': '1:10', 'NumPil': 5050, 'NumAv': 101, 'Classe_x': 'Touriste', 'CoeffPrix': 3, 'NumCl': 1029, 'Classe_y': 'Economique', 'NbPlaces': 7}, {'NumVol': 'V150', 'VilleD': 'Amsterdam', 'VilleA': 'Marseille', 'DateD': '10/04/07', 'HD': '23:20', 'DateA': '11/04/07', 'HA': '1:10', 'NumPil': 5050, 'NumAv': 101, 'Classe_x': 'Business', 'CoeffPrix': 3, 'NumCl': 1020, 'Classe_y': 'Business', 'NbPlaces': 1}, {'NumVol': 'V150', 'VilleD': 'Amsterdam', 'VilleA': 'Marseille', 'DateD': '10/04/07', 'HD': '23:20', 'DateA': '11/04/07', 'HA': '1:10', 'NumPil': 5050, 'NumAv': 101, 'Classe_x': 'Business', 'CoeffPrix': 3, 'NumCl': 1027, 'Classe_y': 'Business', 'NbPlaces': 1}, {'NumVol': 'V150', 'VilleD': 'Amsterdam', 'VilleA': 'Marseille', 'DateD': '10/04/07', 'HD': '23:20', 'DateA': '11/04/07', 'HA': '1:10', 'NumPil': 5050, 'NumAv': 101, 'Classe_x': 'Business', 'CoeffPrix': 3, 'NumCl': 1001, 'Classe_y': 'Touriste', 'NbPlaces': 1}, {'NumVol': 'V150', 'VilleD': 'Amsterdam', 'VilleA': 'Marseille', 'DateD': '10/04/07', 'HD': '23:20', 'DateA': '11/04/07', 'HA': '1:10', 'NumPil': 5050, 'NumAv': 101, 'Classe_x': 'Business', 'CoeffPrix': 3, 'NumCl': 1029, 'Classe_y': 'Economique', 'NbPlaces': 7}, {'NumVol': 'V601', 'VilleD': 'Ajaccio', 'VilleA': 'Marseille', 'DateD': '1/04/07', 'HD': '18:00', 'DateA': '1/04/07', 'HA': '19:40', 'NumPil': 3687, 'NumAv': 840, 'Classe_x': 'Economique', 'CoeffPrix': 5, 'NumCl': 1011, 'Classe_y': 'Business', 'NbPlaces': 1}, {'NumVol': 'V601', 'VilleD': 'Ajaccio', 'VilleA': 'Marseille', 'DateD': '1/04/07', 'HD': '18:00', 'DateA': '1/04/07', 'HA': '19:40', 'NumPil': 3687, 'NumAv': 840, 'Classe_x': 'Economique', 'CoeffPrix': 5, 'NumCl': 1013, 'Classe_y': 'Business', 'NbPlaces': 1}, {'NumVol': 'V601', 'VilleD': 'Ajaccio', 'VilleA': 'Marseille', 'DateD': '1/04/07', 'HD': '18:00', 'DateA': '1/04/07', 'HA': '19:40', 'NumPil': 3687, 'NumAv': 840, 'Classe_x': 'Economique', 'CoeffPrix': 5, 'NumCl': 1020, 'Classe_y': 'Business', 'NbPlaces': 1}, {'NumVol': 'V601', 'VilleD': 'Ajaccio', 'VilleA': 'Marseille', 'DateD': '1/04/07', 'HD': '18:00', 'DateA': '1/04/07', 'HA': '19:40', 'NumPil': 3687, 'NumAv': 840, 'Classe_x': 'Economique', 'CoeffPrix': 5, 'NumCl': 1022, 'Classe_y': 'Business', 'NbPlaces': 3}, {'NumVol': 'V601', 'VilleD': 'Ajaccio', 'VilleA': 'Marseille', 'DateD': '1/04/07', 'HD': '18:00', 'DateA': '1/04/07', 'HA': '19:40', 'NumPil': 3687, 'NumAv': 840, 'Classe_x': 'Economique', 'CoeffPrix': 5, 'NumCl': 1027, 'Classe_y': 'Business', 'NbPlaces': 1}, {'NumVol': 'V601', 'VilleD': 'Ajaccio', 'VilleA': 'Marseille', 'DateD': '1/04/07', 'HD': '18:00', 'DateA': '1/04/07', 'HA': '19:40', 'NumPil': 3687, 'NumAv': 840, 'Classe_x': 'Economique', 'CoeffPrix': 5, 'NumCl': 1001, 'Classe_y': 'Economique', 'NbPlaces': 6}, {'NumVol': 'V601', 'VilleD': 'Ajaccio', 'VilleA': 'Marseille', 'DateD': '1/04/07', 'HD': '18:00', 'DateA': '1/04/07', 'HA': '19:40', 'NumPil': 3687, 'NumAv': 840, 'Classe_x': 'Economique', 'CoeffPrix': 5, 'NumCl': 1005, 'Classe_y': 'Economique', 'NbPlaces': 5}, {'NumVol': 'V601', 'VilleD': 'Ajaccio', 'VilleA': 'Marseille', 'DateD': '1/04/07', 'HD': '18:00', 'DateA': '1/04/07', 'HA': '19:40', 'NumPil': 3687, 'NumAv': 840, 'Classe_x': 'Economique', 'CoeffPrix': 5, 'NumCl': 1006, 'Classe_y': 'Economique', 'NbPlaces': 3}, {'NumVol': 'V601', 'VilleD': 'Ajaccio', 'VilleA': 'Marseille', 'DateD': '1/04/07', 'HD': '18:00', 'DateA': '1/04/07', 'HA': '19:40', 'NumPil': 3687, 'NumAv': 840, 'Classe_x': 'Touriste', 'CoeffPrix': 3, 'NumCl': 1011, 'Classe_y': 'Business', 'NbPlaces': 1}, {'NumVol': 'V601', 'VilleD': 'Ajaccio', 'VilleA': 'Marseille', 'DateD': '1/04/07', 'HD': '18:00', 'DateA': '1/04/07', 'HA': '19:40', 'NumPil': 3687, 'NumAv': 840, 'Classe_x': 'Touriste', 'CoeffPrix': 3, 'NumCl': 1013, 'Classe_y': 'Business', 'NbPlaces': 1}, {'NumVol': 'V601', 'VilleD': 'Ajaccio', 'VilleA': 'Marseille', 'DateD': '1/04/07', 'HD': '18:00', 'DateA': '1/04/07', 'HA': '19:40', 'NumPil': 3687, 'NumAv': 840, 'Classe_x': 'Touriste', 'CoeffPrix': 3, 'NumCl': 1020, 'Classe_y': 'Business', 'NbPlaces': 1}, {'NumVol': 'V601', 'VilleD': 'Ajaccio', 'VilleA': 'Marseille', 'DateD': '1/04/07', 'HD': '18:00', 'DateA': '1/04/07', 'HA': '19:40', 'NumPil': 3687, 'NumAv': 840, 'Classe_x': 'Touriste', 'CoeffPrix': 3, 'NumCl': 1022, 'Classe_y': 'Business', 'NbPlaces': 3}, {'NumVol': 'V601', 'VilleD': 'Ajaccio', 'VilleA': 'Marseille', 'DateD': '1/04/07', 'HD': '18:00', 'DateA': '1/04/07', 'HA': '19:40', 'NumPil': 3687, 'NumAv': 840, 'Classe_x': 'Touriste', 'CoeffPrix': 3, 'NumCl': 1027, 'Classe_y': 'Business', 'NbPlaces': 1}, {'NumVol': 'V601', 'VilleD': 'Ajaccio', 'VilleA': 'Marseille', 'DateD': '1/04/07', 'HD': '18:00', 'DateA': '1/04/07', 'HA': '19:40', 'NumPil': 3687, 'NumAv': 840, 'Classe_x': 'Touriste', 'CoeffPrix': 3, 'NumCl': 1001, 'Classe_y': 'Economique', 'NbPlaces': 6}, {'NumVol': 'V601', 'VilleD': 'Ajaccio', 'VilleA': 'Marseille', 'DateD': '1/04/07', 'HD': '18:00', 'DateA': '1/04/07', 'HA': '19:40', 'NumPil': 3687, 'NumAv': 840, 'Classe_x': 'Touriste', 'CoeffPrix': 3, 'NumCl': 1005, 'Classe_y': 'Economique', 'NbPlaces': 5}, {'NumVol': 'V601', 'VilleD': 'Ajaccio', 'VilleA': 'Marseille', 'DateD': '1/04/07', 'HD': '18:00', 'DateA': '1/04/07', 'HA': '19:40', 'NumPil': 3687, 'NumAv': 840, 'Classe_x': 'Touriste', 'CoeffPrix': 3, 'NumCl': 1006, 'Classe_y': 'Economique', 'NbPlaces': 3}, {'NumVol': 'V601', 'VilleD': 'Ajaccio', 'VilleA': 'Marseille', 'DateD': '1/04/07', 'HD': '18:00', 'DateA': '1/04/07', 'HA': '19:40', 'NumPil': 3687, 'NumAv': 840, 'Classe_x': 'Business', 'CoeffPrix': 2, 'NumCl': 1011, 'Classe_y': 'Business', 'NbPlaces': 1}, {'NumVol': 'V601', 'VilleD': 'Ajaccio', 'VilleA': 'Marseille', 'DateD': '1/04/07', 'HD': '18:00', 'DateA': '1/04/07', 'HA': '19:40', 'NumPil': 3687, 'NumAv': 840, 'Classe_x': 'Business', 'CoeffPrix': 2, 'NumCl': 1013, 'Classe_y': 'Business', 'NbPlaces': 1}, {'NumVol': 'V601', 'VilleD': 'Ajaccio', 'VilleA': 'Marseille', 'DateD': '1/04/07', 'HD': '18:00', 'DateA': '1/04/07', 'HA': '19:40', 'NumPil': 3687, 'NumAv': 840, 'Classe_x': 'Business', 'CoeffPrix': 2, 'NumCl': 1020, 'Classe_y': 'Business', 'NbPlaces': 1}, {'NumVol': 'V601', 'VilleD': 'Ajaccio', 'VilleA': 'Marseille', 'DateD': '1/04/07', 'HD': '18:00', 'DateA': '1/04/07', 'HA': '19:40', 'NumPil': 3687, 'NumAv': 840, 'Classe_x': 'Business', 'CoeffPrix': 2, 'NumCl': 1022, 'Classe_y': 'Business', 'NbPlaces': 3}, {'NumVol': 'V601', 'VilleD': 'Ajaccio', 'VilleA': 'Marseille', 'DateD': '1/04/07', 'HD': '18:00', 'DateA': '1/04/07', 'HA': '19:40', 'NumPil': 3687, 'NumAv': 840, 'Classe_x': 'Business', 'CoeffPrix': 2, 'NumCl': 1027, 'Classe_y': 'Business', 'NbPlaces': 1}, {'NumVol': 'V601', 'VilleD': 'Ajaccio', 'VilleA': 'Marseille', 'DateD': '1/04/07', 'HD': '18:00', 'DateA': '1/04/07', 'HA': '19:40', 'NumPil': 3687, 'NumAv': 840, 'Classe_x': 'Business', 'CoeffPrix': 2, 'NumCl': 1001, 'Classe_y': 'Economique', 'NbPlaces': 6}, {'NumVol': 'V601', 'VilleD': 'Ajaccio', 'VilleA': 'Marseille', 'DateD': '1/04/07', 'HD': '18:00', 'DateA': '1/04/07', 'HA': '19:40', 'NumPil': 3687, 'NumAv': 840, 'Classe_x': 'Business', 'CoeffPrix': 2, 'NumCl': 1005, 'Classe_y': 'Economique', 'NbPlaces': 5}, {'NumVol': 'V601', 'VilleD': 'Ajaccio', 'VilleA': 'Marseille', 'DateD': '1/04/07', 'HD': '18:00', 'DateA': '1/04/07', 'HA': '19:40', 'NumPil': 3687, 'NumAv': 840, 'Classe_x': 'Business', 'CoeffPrix': 2, 'NumCl': 1006, 'Classe_y': 'Economique', 'NbPlaces': 3}, {'NumVol': 'V690', 'VilleD': 'Marseille', 'VilleA': 'Pekin', 'DateD': '19/04/07', 'HD': '18:00', 'DateA': '20/04/07', 'HA': '6:15', 'NumPil': 4050, 'NumAv': 440, 'Classe_x': 'Economique', 'CoeffPrix': 5, 'NumCl': 1007, 'Classe_y': 'Business', 'NbPlaces': 2}, {'NumVol': 'V690', 'VilleD': 'Marseille', 'VilleA': 'Pekin', 'DateD': '19/04/07', 'HD': '18:00', 'DateA': '20/04/07', 'HA': '6:15', 'NumPil': 4050, 'NumAv': 440, 'Classe_x': 'Economique', 'CoeffPrix': 5, 'NumCl': 1008, 'Classe_y': 'Business', 'NbPlaces': 2}, {'NumVol': 'V690', 'VilleD': 'Marseille', 'VilleA': 'Pekin', 'DateD': '19/04/07', 'HD': '18:00', 'DateA': '20/04/07', 'HA': '6:15', 'NumPil': 4050, 'NumAv': 440, 'Classe_x': 'Economique', 'CoeffPrix': 5, 'NumCl': 1031, 'Classe_y': 'Business', 'NbPlaces': 2}, {'NumVol': 'V690', 'VilleD': 'Marseille', 'VilleA': 'Pekin', 'DateD': '19/04/07', 'HD': '18:00', 'DateA': '20/04/07', 'HA': '6:15', 'NumPil': 4050, 'NumAv': 440, 'Classe_x': 'Touriste', 'CoeffPrix': 3, 'NumCl': 1007, 'Classe_y': 'Business', 'NbPlaces': 2}, {'NumVol': 'V690', 'VilleD': 'Marseille', 'VilleA': 'Pekin', 'DateD': '19/04/07', 'HD': '18:00', 'DateA': '20/04/07', 'HA': '6:15', 'NumPil': 4050, 'NumAv': 440, 'Classe_x': 'Touriste', 'CoeffPrix': 3, 'NumCl': 1008, 'Classe_y': 'Business', 'NbPlaces': 2}, {'NumVol': 'V690', 'VilleD': 'Marseille', 'VilleA': 'Pekin', 'DateD': '19/04/07', 'HD': '18:00', 'DateA': '20/04/07', 'HA': '6:15', 'NumPil': 4050, 'NumAv': 440, 'Classe_x': 'Touriste', 'CoeffPrix': 3, 'NumCl': 1031, 'Classe_y': 'Business', 'NbPlaces': 2}, {'NumVol': 'V690', 'VilleD': 'Marseille', 'VilleA': 'Pekin', 'DateD': '19/04/07', 'HD': '18:00', 'DateA': '20/04/07', 'HA': '6:15', 'NumPil': 4050, 'NumAv': 440, 'Classe_x': 'Business', 'CoeffPrix': 2, 'NumCl': 1007, 'Classe_y': 'Business', 'NbPlaces': 2}, {'NumVol': 'V690', 'VilleD': 'Marseille', 'VilleA': 'Pekin', 'DateD': '19/04/07', 'HD': '18:00', 'DateA': '20/04/07', 'HA': '6:15', 'NumPil': 4050, 'NumAv': 440, 'Classe_x': 'Business', 'CoeffPrix': 2, 'NumCl': 1008, 'Classe_y': 'Business', 'NbPlaces': 2}, {'NumVol': 'V690', 'VilleD': 'Marseille', 'VilleA': 'Pekin', 'DateD': '19/04/07', 'HD': '18:00', 'DateA': '20/04/07', 'HA': '6:15', 'NumPil': 4050, 'NumAv': 440, 'Classe_x': 'Business', 'CoeffPrix': 2, 'NumCl': 1031, 'Classe_y': 'Business', 'NbPlaces': 2}, {'NumVol': 'V790', 'VilleD': 'Metz', 'VilleA': 'Marseille', 'DateD': '20/04/07', 'HD': '5:00', 'DateA': '20/04/07', 'HA': '6:15', 'NumPil': 4060, 'NumAv': 720, 'Classe_x': 'Economique', 'CoeffPrix': 5, 'NumCl': 1006, 'Classe_y': 'Business', 'NbPlaces': 1}, {'NumVol': 'V790', 'VilleD': 'Metz', 'VilleA': 'Marseille', 'DateD': '20/04/07', 'HD': '5:00', 'DateA': '20/04/07', 'HA': '6:15', 'NumPil': 4060, 'NumAv': 720, 'Classe_x': 'Economique', 'CoeffPrix': 5, 'NumCl': 1008, 'Classe_y': 'Business', 'NbPlaces': 1}, {'NumVol': 'V790', 'VilleD': 'Metz', 'VilleA': 'Marseille', 'DateD': '20/04/07', 'HD': '5:00', 'DateA': '20/04/07', 'HA': '6:15', 'NumPil': 4060, 'NumAv': 720, 'Classe_x': 'Economique', 'CoeffPrix': 5, 'NumCl': 1031, 'Classe_y': 'Business', 'NbPlaces': 2}, {'NumVol': 'V790', 'VilleD': 'Metz', 'VilleA': 'Marseille', 'DateD': '20/04/07', 'HD': '5:00', 'DateA': '20/04/07', 'HA': '6:15', 'NumPil': 4060, 'NumAv': 720, 'Classe_x': 'Economique', 'CoeffPrix': 5, 'NumCl': 1001, 'Classe_y': 'Touriste', 'NbPlaces': 1}, {'NumVol': 'V790', 'VilleD': 'Metz', 'VilleA': 'Marseille', 'DateD': '20/04/07', 'HD': '5:00', 'DateA': '20/04/07', 'HA': '6:15', 'NumPil': 4060, 'NumAv': 720, 'Classe_x': 'Economique', 'CoeffPrix': 5, 'NumCl': 1009, 'Classe_y': 'Economique', 'NbPlaces': 2}, {'NumVol': 'V790', 'VilleD': 'Metz', 'VilleA': 'Marseille', 'DateD': '20/04/07', 'HD': '5:00', 'DateA': '20/04/07', 'HA': '6:15', 'NumPil': 4060, 'NumAv': 720, 'Classe_x': 'Economique', 'CoeffPrix': 5, 'NumCl': 1018, 'Classe_y': 'Economique', 'NbPlaces': 2}, {'NumVol': 'V790', 'VilleD': 'Metz', 'VilleA': 'Marseille', 'DateD': '20/04/07', 'HD': '5:00', 'DateA': '20/04/07', 'HA': '6:15', 'NumPil': 4060, 'NumAv': 720, 'Classe_x': 'Touriste', 'CoeffPrix': 3, 'NumCl': 1006, 'Classe_y': 'Business', 'NbPlaces': 1}, {'NumVol': 'V790', 'VilleD': 'Metz', 'VilleA': 'Marseille', 'DateD': '20/04/07', 'HD': '5:00', 'DateA': '20/04/07', 'HA': '6:15', 'NumPil': 4060, 'NumAv': 720, 'Classe_x': 'Touriste', 'CoeffPrix': 3, 'NumCl': 1008, 'Classe_y': 'Business', 'NbPlaces': 1}, {'NumVol': 'V790', 'VilleD': 'Metz', 'VilleA': 'Marseille', 'DateD': '20/04/07', 'HD': '5:00', 'DateA': '20/04/07', 'HA': '6:15', 'NumPil': 4060, 'NumAv': 720, 'Classe_x': 'Touriste', 'CoeffPrix': 3, 'NumCl': 1031, 'Classe_y': 'Business', 'NbPlaces': 2}, {'NumVol': 'V790', 'VilleD': 'Metz', 'VilleA': 'Marseille', 'DateD': '20/04/07', 'HD': '5:00', 'DateA': '20/04/07', 'HA': '6:15', 'NumPil': 4060, 'NumAv': 720, 'Classe_x': 'Touriste', 'CoeffPrix': 3, 'NumCl': 1001, 'Classe_y': 'Touriste', 'NbPlaces': 1}, {'NumVol': 'V790', 'VilleD': 'Metz', 'VilleA': 'Marseille', 'DateD': '20/04/07', 'HD': '5:00', 'DateA': '20/04/07', 'HA': '6:15', 'NumPil': 4060, 'NumAv': 720, 'Classe_x': 'Touriste', 'CoeffPrix': 3, 'NumCl': 1009, 'Classe_y': 'Economique', 'NbPlaces': 2}, {'NumVol': 'V790', 'VilleD': 'Metz', 'VilleA': 'Marseille', 'DateD': '20/04/07', 'HD': '5:00', 'DateA': '20/04/07', 'HA': '6:15', 'NumPil': 4060, 'NumAv': 720, 'Classe_x': 'Touriste', 'CoeffPrix': 3, 'NumCl': 1018, 'Classe_y': 'Economique', 'NbPlaces': 2}, {'NumVol': 'V790', 'VilleD': 'Metz', 'VilleA': 'Marseille', 'DateD': '20/04/07', 'HD': '5:00', 'DateA': '20/04/07', 'HA': '6:15', 'NumPil': 4060, 'NumAv': 720, 'Classe_x': 'Business', 'CoeffPrix': 2, 'NumCl': 1006, 'Classe_y': 'Business', 'NbPlaces': 1}, {'NumVol': 'V790', 'VilleD': 'Metz', 'VilleA': 'Marseille', 'DateD': '20/04/07', 'HD': '5:00', 'DateA': '20/04/07', 'HA': '6:15', 'NumPil': 4060, 'NumAv': 720, 'Classe_x': 'Business', 'CoeffPrix': 2, 'NumCl': 1008, 'Classe_y': 'Business', 'NbPlaces': 1}, {'NumVol': 'V790', 'VilleD': 'Metz', 'VilleA': 'Marseille', 'DateD': '20/04/07', 'HD': '5:00', 'DateA': '20/04/07', 'HA': '6:15', 'NumPil': 4060, 'NumAv': 720, 'Classe_x': 'Business', 'CoeffPrix': 2, 'NumCl': 1031, 'Classe_y': 'Business', 'NbPlaces': 2}, {'NumVol': 'V790', 'VilleD': 'Metz', 'VilleA': 'Marseille', 'DateD': '20/04/07', 'HD': '5:00', 'DateA': '20/04/07', 'HA': '6:15', 'NumPil': 4060, 'NumAv': 720, 'Classe_x': 'Business', 'CoeffPrix': 2, 'NumCl': 1001, 'Classe_y': 'Touriste', 'NbPlaces': 1}, {'NumVol': 'V790', 'VilleD': 'Metz', 'VilleA': 'Marseille', 'DateD': '20/04/07', 'HD': '5:00', 'DateA': '20/04/07', 'HA': '6:15', 'NumPil': 4060, 'NumAv': 720, 'Classe_x': 'Business', 'CoeffPrix': 2, 'NumCl': 1009, 'Classe_y': 'Economique', 'NbPlaces': 2}, {'NumVol': 'V790', 'VilleD': 'Metz', 'VilleA': 'Marseille', 'DateD': '20/04/07', 'HD': '5:00', 'DateA': '20/04/07', 'HA': '6:15', 'NumPil': 4060, 'NumAv': 720, 'Classe_x': 'Business', 'CoeffPrix': 2, 'NumCl': 1018, 'Classe_y': 'Economique', 'NbPlaces': 2}, {'NumVol': 'V890', 'VilleD': 'Strasbourg', 'VilleA': 'Marseille', 'DateD': '20/04/07', 'HD': '7:00', 'DateA': '20/04/07', 'HA': '8:15', 'NumPil': 4060, 'NumAv': 240, 'Classe_x': 'Economique', 'CoeffPrix': 5, 'NumCl': 1017, 'Classe_y': 'Business', 'NbPlaces': 2}, {'NumVol': 'V890', 'VilleD': 'Strasbourg', 'VilleA': 'Marseille', 'DateD': '20/04/07', 'HD': '7:00', 'DateA': '20/04/07', 'HA': '8:15', 'NumPil': 4060, 'NumAv': 240, 'Classe_x': 'Economique', 'CoeffPrix': 5, 'NumCl': 1027, 'Classe_y': 'Business', 'NbPlaces': 5}, {'NumVol': 'V890', 'VilleD': 'Strasbourg', 'VilleA': 'Marseille', 'DateD': '20/04/07', 'HD': '7:00', 'DateA': '20/04/07', 'HA': '8:15', 'NumPil': 4060, 'NumAv': 240, 'Classe_x': 'Economique', 'CoeffPrix': 5, 'NumCl': 1008, 'Classe_y': 'Touriste', 'NbPlaces': 4}, {'NumVol': 'V890', 'VilleD': 'Strasbourg', 'VilleA': 'Marseille', 'DateD': '20/04/07', 'HD': '7:00', 'DateA': '20/04/07', 'HA': '8:15', 'NumPil': 4060, 'NumAv': 240, 'Classe_x': 'Economique', 'CoeffPrix': 5, 'NumCl': 1009, 'Classe_y': 'Touriste', 'NbPlaces': 1}, {'NumVol': 'V890', 'VilleD': 'Strasbourg', 'VilleA': 'Marseille', 'DateD': '20/04/07', 'HD': '7:00', 'DateA': '20/04/07', 'HA': '8:15', 'NumPil': 4060, 'NumAv': 240, 'Classe_x': 'Economique', 'CoeffPrix': 5, 'NumCl': 1022, 'Classe_y': 'Touriste', 'NbPlaces': 2}, {'NumVol': 'V890', 'VilleD': 'Strasbourg', 'VilleA': 'Marseille', 'DateD': '20/04/07', 'HD': '7:00', 'DateA': '20/04/07', 'HA': '8:15', 'NumPil': 4060, 'NumAv': 240, 'Classe_x': 'Economique', 'CoeffPrix': 5, 'NumCl': 1017, 'Classe_y': 'Touriste', 'NbPlaces': 2}, {'NumVol': 'V890', 'VilleD': 'Strasbourg', 'VilleA': 'Marseille', 'DateD': '20/04/07', 'HD': '7:00', 'DateA': '20/04/07', 'HA': '8:15', 'NumPil': 4060, 'NumAv': 240, 'Classe_x': 'Economique', 'CoeffPrix': 5, 'NumCl': 1025, 'Classe_y': 'Economique', 'NbPlaces': 4}, {'NumVol': 'V890', 'VilleD': 'Strasbourg', 'VilleA': 'Marseille', 'DateD': '20/04/07', 'HD': '7:00', 'DateA': '20/04/07', 'HA': '8:15', 'NumPil': 4060, 'NumAv': 240, 'Classe_x': 'Economique', 'CoeffPrix': 5, 'NumCl': 1005, 'Classe_y': 'Economique', 'NbPlaces': 6}, {'NumVol': 'V890', 'VilleD': 'Strasbourg', 'VilleA': 'Marseille', 'DateD': '20/04/07', 'HD': '7:00', 'DateA': '20/04/07', 'HA': '8:15', 'NumPil': 4060, 'NumAv': 240, 'Classe_x': 'Economique', 'CoeffPrix': 5, 'NumCl': 1017, 'Classe_y': 'Economique', 'NbPlaces': 2}, {'NumVol': 'V890', 'VilleD': 'Strasbourg', 'VilleA': 'Marseille', 'DateD': '20/04/07', 'HD': '7:00', 'DateA': '20/04/07', 'HA': '8:15', 'NumPil': 4060, 'NumAv': 240, 'Classe_x': 'Touriste', 'CoeffPrix': 3, 'NumCl': 1017, 'Classe_y': 'Business', 'NbPlaces': 2}, {'NumVol': 'V890', 'VilleD': 'Strasbourg', 'VilleA': 'Marseille', 'DateD': '20/04/07', 'HD': '7:00', 'DateA': '20/04/07', 'HA': '8:15', 'NumPil': 4060, 'NumAv': 240, 'Classe_x': 'Touriste', 'CoeffPrix': 3, 'NumCl': 1027, 'Classe_y': 'Business', 'NbPlaces': 5}, {'NumVol': 'V890', 'VilleD': 'Strasbourg', 'VilleA': 'Marseille', 'DateD': '20/04/07', 'HD': '7:00', 'DateA': '20/04/07', 'HA': '8:15', 'NumPil': 4060, 'NumAv': 240, 'Classe_x': 'Touriste', 'CoeffPrix': 3, 'NumCl': 1008, 'Classe_y': 'Touriste', 'NbPlaces': 4}, {'NumVol': 'V890', 'VilleD': 'Strasbourg', 'VilleA': 'Marseille', 'DateD': '20/04/07', 'HD': '7:00', 'DateA': '20/04/07', 'HA': '8:15', 'NumPil': 4060, 'NumAv': 240, 'Classe_x': 'Touriste', 'CoeffPrix': 3, 'NumCl': 1009, 'Classe_y': 'Touriste', 'NbPlaces': 1}, {'NumVol': 'V890', 'VilleD': 'Strasbourg', 'VilleA': 'Marseille', 'DateD': '20/04/07', 'HD': '7:00', 'DateA': '20/04/07', 'HA': '8:15', 'NumPil': 4060, 'NumAv': 240, 'Classe_x': 'Touriste', 'CoeffPrix': 3, 'NumCl': 1022, 'Classe_y': 'Touriste', 'NbPlaces': 2}, {'NumVol': 'V890', 'VilleD': 'Strasbourg', 'VilleA': 'Marseille', 'DateD': '20/04/07', 'HD': '7:00', 'DateA': '20/04/07', 'HA': '8:15', 'NumPil': 4060, 'NumAv': 240, 'Classe_x': 'Touriste', 'CoeffPrix': 3, 'NumCl': 1017, 'Classe_y': 'Touriste', 'NbPlaces': 2}, {'NumVol': 'V890', 'VilleD': 'Strasbourg', 'VilleA': 'Marseille', 'DateD': '20/04/07', 'HD': '7:00', 'DateA': '20/04/07', 'HA': '8:15', 'NumPil': 4060, 'NumAv': 240, 'Classe_x': 'Touriste', 'CoeffPrix': 3, 'NumCl': 1025, 'Classe_y': 'Economique', 'NbPlaces': 4}, {'NumVol': 'V890', 'VilleD': 'Strasbourg', 'VilleA': 'Marseille', 'DateD': '20/04/07', 'HD': '7:00', 'DateA': '20/04/07', 'HA': '8:15', 'NumPil': 4060, 'NumAv': 240, 'Classe_x': 'Touriste', 'CoeffPrix': 3, 'NumCl': 1005, 'Classe_y': 'Economique', 'NbPlaces': 6}, {'NumVol': 'V890', 'VilleD': 'Strasbourg', 'VilleA': 'Marseille', 'DateD': '20/04/07', 'HD': '7:00', 'DateA': '20/04/07', 'HA': '8:15', 'NumPil': 4060, 'NumAv': 240, 'Classe_x': 'Touriste', 'CoeffPrix': 3, 'NumCl': 1017, 'Classe_y': 'Economique', 'NbPlaces': 2}, {'NumVol': 'V890', 'VilleD': 'Strasbourg', 'VilleA': 'Marseille', 'DateD': '20/04/07', 'HD': '7:00', 'DateA': '20/04/07', 'HA': '8:15', 'NumPil': 4060, 'NumAv': 240, 'Classe_x': 'Business', 'CoeffPrix': 2, 'NumCl': 1017, 'Classe_y': 'Business', 'NbPlaces': 2}, {'NumVol': 'V890', 'VilleD': 'Strasbourg', 'VilleA': 'Marseille', 'DateD': '20/04/07', 'HD': '7:00', 'DateA': '20/04/07', 'HA': '8:15', 'NumPil': 4060, 'NumAv': 240, 'Classe_x': 'Business', 'CoeffPrix': 2, 'NumCl': 1027, 'Classe_y': 'Business', 'NbPlaces': 5}, {'NumVol': 'V890', 'VilleD': 'Strasbourg', 'VilleA': 'Marseille', 'DateD': '20/04/07', 'HD': '7:00', 'DateA': '20/04/07', 'HA': '8:15', 'NumPil': 4060, 'NumAv': 240, 'Classe_x': 'Business', 'CoeffPrix': 2, 'NumCl': 1008, 'Classe_y': 'Touriste', 'NbPlaces': 4}, {'NumVol': 'V890', 'VilleD': 'Strasbourg', 'VilleA': 'Marseille', 'DateD': '20/04/07', 'HD': '7:00', 'DateA': '20/04/07', 'HA': '8:15', 'NumPil': 4060, 'NumAv': 240, 'Classe_x': 'Business', 'CoeffPrix': 2, 'NumCl': 1009, 'Classe_y': 'Touriste', 'NbPlaces': 1}, {'NumVol': 'V890', 'VilleD': 'Strasbourg', 'VilleA': 'Marseille', 'DateD': '20/04/07', 'HD': '7:00', 'DateA': '20/04/07', 'HA': '8:15', 'NumPil': 4060, 'NumAv': 240, 'Classe_x': 'Business', 'CoeffPrix': 2, 'NumCl': 1022, 'Classe_y': 'Touriste', 'NbPlaces': 2}, {'NumVol': 'V890', 'VilleD': 'Strasbourg', 'VilleA': 'Marseille', 'DateD': '20/04/07', 'HD': '7:00', 'DateA': '20/04/07', 'HA': '8:15', 'NumPil': 4060, 'NumAv': 240, 'Classe_x': 'Business', 'CoeffPrix': 2, 'NumCl': 1017, 'Classe_y': 'Touriste', 'NbPlaces': 2}, {'NumVol': 'V890', 'VilleD': 'Strasbourg', 'VilleA': 'Marseille', 'DateD': '20/04/07', 'HD': '7:00', 'DateA': '20/04/07', 'HA': '8:15', 'NumPil': 4060, 'NumAv': 240, 'Classe_x': 'Business', 'CoeffPrix': 2, 'NumCl': 1025, 'Classe_y': 'Economique', 'NbPlaces': 4}, {'NumVol': 'V890', 'VilleD': 'Strasbourg', 'VilleA': 'Marseille', 'DateD': '20/04/07', 'HD': '7:00', 'DateA': '20/04/07', 'HA': '8:15', 'NumPil': 4060, 'NumAv': 240, 'Classe_x': 'Business', 'CoeffPrix': 2, 'NumCl': 1005, 'Classe_y': 'Economique', 'NbPlaces': 6}, {'NumVol': 'V890', 'VilleD': 'Strasbourg', 'VilleA': 'Marseille', 'DateD': '20/04/07', 'HD': '7:00', 'DateA': '20/04/07', 'HA': '8:15', 'NumPil': 4060, 'NumAv': 240, 'Classe_x': 'Business', 'CoeffPrix': 2, 'NumCl': 1017, 'Classe_y': 'Economique', 'NbPlaces': 2}, {'NumVol': 'V901', 'VilleD': 'Paris', 'VilleA': 'Nice', 'DateD': '1/04/07', 'HD': '22:00', 'DateA': '1/04/07', 'HA': '23:15', 'NumPil': 4020, 'NumAv': 240, 'Classe_x': 'Economique', 'CoeffPrix': 5, 'NumCl': 1009, 'Classe_y': 'Business', 'NbPlaces': 5}, {'NumVol': 'V901', 'VilleD': 'Paris', 'VilleA': 'Nice', 'DateD': '1/04/07', 'HD': '22:00', 'DateA': '1/04/07', 'HA': '23:15', 'NumPil': 4020, 'NumAv': 240, 'Classe_x': 'Economique', 'CoeffPrix': 5, 'NumCl': 1004, 'Classe_y': 'Economique', 'NbPlaces': 2}, {'NumVol': 'V901', 'VilleD': 'Paris', 'VilleA': 'Nice', 'DateD': '1/04/07', 'HD': '22:00', 'DateA': '1/04/07', 'HA': '23:15', 'NumPil': 4020, 'NumAv': 240, 'Classe_x': 'Economique', 'CoeffPrix': 5, 'NumCl': 1002, 'Classe_y': 'Economique', 'NbPlaces': 5}, {'NumVol': 'V901', 'VilleD': 'Paris', 'VilleA': 'Nice', 'DateD': '1/04/07', 'HD': '22:00', 'DateA': '1/04/07', 'HA': '23:15', 'NumPil': 4020, 'NumAv': 240, 'Classe_x': 'Touriste', 'CoeffPrix': 3, 'NumCl': 1009, 'Classe_y': 'Business', 'NbPlaces': 5}, {'NumVol': 'V901', 'VilleD': 'Paris', 'VilleA': 'Nice', 'DateD': '1/04/07', 'HD': '22:00', 'DateA': '1/04/07', 'HA': '23:15', 'NumPil': 4020, 'NumAv': 240, 'Classe_x': 'Touriste', 'CoeffPrix': 3, 'NumCl': 1004, 'Classe_y': 'Economique', 'NbPlaces': 2}, {'NumVol': 'V901', 'VilleD': 'Paris', 'VilleA': 'Nice', 'DateD': '1/04/07', 'HD': '22:00', 'DateA': '1/04/07', 'HA': '23:15', 'NumPil': 4020, 'NumAv': 240, 'Classe_x': 'Touriste', 'CoeffPrix': 3, 'NumCl': 1002, 'Classe_y': 'Economique', 'NbPlaces': 5}, {'NumVol': 'V901', 'VilleD': 'Paris', 'VilleA': 'Nice', 'DateD': '1/04/07', 'HD': '22:00', 'DateA': '1/04/07', 'HA': '23:15', 'NumPil': 4020, 'NumAv': 240, 'Classe_x': 'Business', 'CoeffPrix': 2, 'NumCl': 1009, 'Classe_y': 'Business', 'NbPlaces': 5}, {'NumVol': 'V901', 'VilleD': 'Paris', 'VilleA': 'Nice', 'DateD': '1/04/07', 'HD': '22:00', 'DateA': '1/04/07', 'HA': '23:15', 'NumPil': 4020, 'NumAv': 240, 'Classe_x': 'Business', 'CoeffPrix': 2, 'NumCl': 1004, 'Classe_y': 'Economique', 'NbPlaces': 2}, {'NumVol': 'V901', 'VilleD': 'Paris', 'VilleA': 'Nice', 'DateD': '1/04/07', 'HD': '22:00', 'DateA': '1/04/07', 'HA': '23:15', 'NumPil': 4020, 'NumAv': 240, 'Classe_x': 'Business', 'CoeffPrix': 2, 'NumCl': 1002, 'Classe_y': 'Economique', 'NbPlaces': 5}]\n"
     ]
    }
   ],
   "source": [
    "with open('bddPilotes/JSON/AVIONS.json', 'r') as file:\n",
    "    data = json.load(file)\n",
    "    print(data)\n",
    "\n",
    "with open('bddPilotes/JSON/PILOTES.json', 'r') as file:\n",
    "    data = json.load(file)\n",
    "    print(data)\n",
    "\n",
    "with open('bddPilotes/JSON/VolsClassesReservations.json', 'r') as file:\n",
    "    data = json.load(file)\n",
    "    print(data)"
   ]
  },
  {
   "cell_type": "markdown",
   "metadata": {},
   "source": [
    "##### Fonction de jointure"
   ]
  },
  {
   "cell_type": "code",
   "execution_count": null,
   "metadata": {},
   "outputs": [],
   "source": [
    "def jointure(fic1, fic2, attribut) :\n",
    "    mapping_data1 = {item[colonne_jointure]: item for item in data1}\n",
    "\n",
    "    # Fusionner les données en fonction de la colonne de jointure\n",
    "    resultat = []\n",
    "    for item2 in data2:\n",
    "        item1 = mapping_data1.get(item2[colonne_jointure], {})\n",
    "        resultat.append({**item1, **item2})\n",
    "\n",
    "    return resultat\n",
    "\n",
    "'''\n",
    "def jointure(json1, json2):\n",
    "\n",
    "    from json import loads\n",
    "    from json import dumps\n",
    "\n",
    "    # First, transform json objects to dictionaries\n",
    "\n",
    "    d1_name = list(loads(json1))[0]\n",
    "    #print(d1_name)\n",
    "    d2_name = list(loads(json2))[0]\n",
    "    #print(d2_name)\n",
    "\n",
    "    d1 = loads(json1)[d1_name]\n",
    "    d2 = loads(json2)[d2_name]\n",
    "\n",
    "    #print(att_name,type(att_name))\n",
    "    # Second, iterate through dictionaries\n",
    "    d_res = {}\n",
    "    for key1, val1 in d1.items():\n",
    "        #print(key1, '==', val1)\n",
    "        for key2, val2 in d2.items():\n",
    "            #print(key1, '==', key2)\n",
    "            #print([ord(c) for c in key1],key1,[ord(c) for c in att_name],att_name)\n",
    "            if key1 == key2:\n",
    "                d = {}\n",
    "                d.update(val1)\n",
    "                d.update(val2)\n",
    "                #print(d)\n",
    "                d_res[key1] = d\n",
    "    my_my_dict = {}\n",
    "    my_my_dict['test'] = d_res\n",
    "    z = dumps(my_my_dict)\n",
    "\n",
    "    return z\n",
    "'''"
   ]
  },
  {
   "cell_type": "markdown",
   "metadata": {},
   "source": [
    "## Redis : "
   ]
  },
  {
   "cell_type": "markdown",
   "metadata": {},
   "source": [
    "Redis est un SGBD et aussi un gestionnaire **NoSQL** *(Not Only SQL)* qui permet d'adopter le modèle \"clé-valeur\", ou aussi **JSON**, pour sa structure de données.    \n",
    "<br>\n",
    "Afin de se connecter à un serveur Redis depuis ce fichier Jupyter Notebook, pour pouvoir expérimenter ce gestionnaire, j'ai fait appel à ***Docker*** en lancant mon serveur depuis un conteneur avec la commande <code>redis-cli</code>    \n",
    "<br>"
   ]
  },
  {
   "cell_type": "markdown",
   "metadata": {},
   "source": [
    "#### <u>Connexion à Redis</u>"
   ]
  },
  {
   "cell_type": "markdown",
   "metadata": {},
   "source": [
    "##### Les installations et importations nécessaires :"
   ]
  },
  {
   "cell_type": "code",
   "execution_count": null,
   "metadata": {},
   "outputs": [],
   "source": [
    "pip install redis"
   ]
  },
  {
   "cell_type": "code",
   "execution_count": 16,
   "metadata": {},
   "outputs": [],
   "source": [
    "import redis\n",
    "import csv\n",
    "from json import dumps\n",
    "import time\n",
    "\n",
    "client = redis.Redis(host='localhost', port=6380, decode_responses=True)"
   ]
  },
  {
   "cell_type": "markdown",
   "metadata": {},
   "source": [
    "##### Test de la connection au serveur"
   ]
  },
  {
   "cell_type": "code",
   "execution_count": 21,
   "metadata": {},
   "outputs": [
    {
     "name": "stdout",
     "output_type": "stream",
     "text": [
      "Andriamisa Nayann\n"
     ]
    },
    {
     "data": {
      "text/plain": [
       "'R5.A.10'"
      ]
     },
     "execution_count": 21,
     "metadata": {},
     "output_type": "execute_result"
    }
   ],
   "source": [
    "# Ajout de données\n",
    "client.set(\"Nom\", \"Andriamisa\")\n",
    "client.set(\"Prenom\", \"Nayann\")\n",
    "\n",
    "# Récupération des données\n",
    "print(client.get(\"Nom\") + \" \" + client.get(\"Prenom\"))\n",
    "client.get(\"Ressource\")"
   ]
  },
  {
   "cell_type": "markdown",
   "metadata": {},
   "source": [
    "#### <u>Les Bloom filters sur Redis</u>"
   ]
  },
  {
   "cell_type": "markdown",
   "metadata": {},
   "source": [
    "Le filtre de Bloom est une structure de données probabiliste utilisée pour tester l'appartenance d'un élément à un ensemble. Conçu pour être utilisé dans des situations où la mémoire est limitée et où des faux positifs sont tolérables, le filtre de Bloom permet d'économiser de l'espace en évitant le stockage direct des éléments de l'ensemble. Il utilise plusieurs fonctions de hachage pour attribuer à chaque élément plusieurs positions dans un tableau de bits. Lorsqu'on interroge le filtre pour la présence d'un élément, il renvoie probablement vrai (avec une certaine probabilité d'erreur), indiquant ainsi que l'élément pourrait être dans l'ensemble, ou certainement faux s'il n'est pas présent. Redis offre une implémentation efficace du filtre de Bloom, permettant son utilisation dans un contexte de base de données à mémoire vive avec des avantages significatifs en termes d'optimisation de l'utilisation de la mémoire."
   ]
  },
  {
   "cell_type": "markdown",
   "metadata": {},
   "source": [
    "##### 1. Le code python implémentant les Blooms filters"
   ]
  },
  {
   "cell_type": "code",
   "execution_count": 24,
   "metadata": {},
   "outputs": [
    {
     "name": "stdout",
     "output_type": "stream",
     "text": [
      "Start to create the bloom filter over 14000 inputs\n",
      "CPU Execution time: 6.75 seconds\n",
      "We found 1509 duplicates in the input\n"
     ]
    }
   ],
   "source": [
    "def perf_bloom(csv_file, n) :\n",
    "\n",
    "    client.delete(\"bloom\")\n",
    "    client.execute_command(\"BF.RESERVE\", \"bloom\", \"0.01\", \"1700000\")\n",
    "\n",
    "    with open(csv_file, encoding='utf-8') as csvfile:\n",
    "        my_reader = csv.DictReader(csvfile, delimiter='\\t')\n",
    "        my_data = [my_row for my_row in my_reader]\n",
    "\n",
    "        pres = dup = 0\n",
    "        print('Start to create the bloom filter over', n, 'inputs')\n",
    "        st = time.process_time()\n",
    "\n",
    "        for my_row in my_data[0:n]:\n",
    "            if not client.execute_command(\"BF.EXISTS\", \"bloom\", my_row['M']):\n",
    "                client.execute_command(\"BF.ADD\", \"bloom\", my_row['M'])\n",
    "                pres = pres + 1\n",
    "            else:\n",
    "                dup = dup + 1\n",
    "\n",
    "        et = time.process_time()\n",
    "        res = et - st\n",
    "        print('CPU Execution time:', res, 'seconds')\n",
    "        print('We found', dup, 'duplicates in the input')\n",
    "\n",
    "# Step 1\n",
    "perf_bloom(\"DEMO.csv\", 14000)"
   ]
  },
  {
   "cell_type": "markdown",
   "metadata": {},
   "source": [
    "##### 2. Set.py pour des test de performances"
   ]
  },
  {
   "cell_type": "markdown",
   "metadata": {},
   "source": [
    "Voici une fonction qui teste les performances d'ajout d'éléments distincts du fichier CSV à un ensemble Redis."
   ]
  },
  {
   "cell_type": "code",
   "execution_count": 28,
   "metadata": {},
   "outputs": [
    {
     "name": "stdout",
     "output_type": "stream",
     "text": [
      "Start to create the set over 1400 inputs\n",
      "CPU Execution time: 0.5 seconds\n",
      "We found 151 duplicates in the input\n",
      "\n",
      "Wall time (also known as clock time or wall-clock time) is simply the total time\n",
      "elapsed during the measurement. It's the time you can measure with a stopwatch.\n",
      "It is the difference between the time at which a program finished its execution and\n",
      "the time at which the program started. It also includes waiting time for resources.\n",
      "\n",
      "CPU Time, on the other hand, refers to the time the CPU was busy processing\n",
      "the program's instructions. The time spent waiting for other task to complete\n",
      "(like I/O operations) is not included in the CPU time. It does not include\n",
      "the waiting time for resources.\n"
     ]
    }
   ],
   "source": [
    "def perf_set(csv_file, n):\n",
    "\n",
    "    r = redis.Redis(host='localhost', port=6380, decode_responses=True)\n",
    "\n",
    "    r.delete(\"my_set\")\n",
    "\n",
    "    with open(csv_file, encoding = 'utf-8') as csvfile:\n",
    "        my_reader = csv.DictReader(csvfile,delimiter='\\t')\n",
    "        my_data = [my_row for my_row in my_reader]\n",
    "        #print(my_data)\n",
    "        pres = 0\n",
    "        dup = 0\n",
    "        print('Start to create the set over',n,'inputs')\n",
    "        # get the start time\n",
    "        st = time.process_time()\n",
    "        for my_row in my_data[0:n]:\n",
    "            #print(my_row['M'])\n",
    "            if not r.sismember(\"my_set\", my_row['M']):\n",
    "                r.sadd(\"my_set\", my_row['M'])\n",
    "                pres += 1\n",
    "            else:\n",
    "                dup += 1\n",
    "        # get the end time\n",
    "        et = time.process_time()\n",
    "        # get execution time\n",
    "        res = et - st\n",
    "        print('CPU Execution time:', res, 'seconds')\n",
    "        print('We found',dup,'duplicates in the input')\n",
    "        print()\n",
    "        print('Wall time (also known as clock time or wall-clock time) is simply the total time')\n",
    "        print('elapsed during the measurement. It\\'s the time you can measure with a stopwatch.')\n",
    "        print('It is the difference between the time at which a program finished its execution and')\n",
    "        print('the time at which the program started. It also includes waiting time for resources.')\n",
    "        print()\n",
    "        print('CPU Time, on the other hand, refers to the time the CPU was busy processing')\n",
    "        print('the program\\'s instructions. The time spent waiting for other task to complete')\n",
    "        print('(like I/O operations) is not included in the CPU time. It does not include')\n",
    "        print('the waiting time for resources.')\n",
    "#Step 1\n",
    " \n",
    "perf_set(\"DEMO.csv\", 1400)"
   ]
  },
  {
   "cell_type": "markdown",
   "metadata": {},
   "source": [
    "### PUB/SUB avec Redis"
   ]
  },
  {
   "cell_type": "markdown",
   "metadata": {},
   "source": [
    "### Les installations et importations utilisées pour tester PUB/SUB avec Redis"
   ]
  },
  {
   "cell_type": "code",
   "execution_count": null,
   "metadata": {},
   "outputs": [],
   "source": [
    "pip install schedule"
   ]
  },
  {
   "cell_type": "code",
   "execution_count": 29,
   "metadata": {},
   "outputs": [],
   "source": [
    "import redis\n",
    "\n",
    "import json\n",
    "import random\n",
    "from datetime import datetime\n",
    "import time\n",
    "import schedule\n",
    "\n",
    "client = redis.Redis(host=\"localhost\", port=6380, decode_responses=True)"
   ]
  },
  {
   "cell_type": "markdown",
   "metadata": {},
   "source": [
    "#### Publisher"
   ]
  },
  {
   "cell_type": "markdown",
   "metadata": {},
   "source": [
    "Dans le code ci-dessous, la fonction <code>publish()</code> va publier un message qui sera un couple d'une **date** (à l'occurence la date du jour ainsi que l'heure) et d'une **CO2_value** (un nombre aléatoire entre 300 et 1000).    \n",
    "Ces messages seront publiés de manière espacée entre 1 et 3 secondes (aléatoirement aussi).  \n",
    "<br>  \n",
    "*Afin que la fonction PUB/SUB de Redis fonctionne correctemment, il faut éxécuter le publisher indépendamment du subscriber (dans un autre jupyter avec un noyau différent de celui utilisé dans ce compte rendu par exemple).*"
   ]
  },
  {
   "cell_type": "code",
   "execution_count": 30,
   "metadata": {},
   "outputs": [
    {
     "ename": "KeyboardInterrupt",
     "evalue": "",
     "output_type": "error",
     "traceback": [
      "\u001b[1;31m---------------------------------------------------------------------------\u001b[0m",
      "\u001b[1;31mKeyboardInterrupt\u001b[0m                         Traceback (most recent call last)",
      "Cell \u001b[1;32mIn[30], line 18\u001b[0m\n\u001b[0;32m     14\u001b[0m client\u001b[38;5;241m.\u001b[39mpublish(\u001b[38;5;124m'\u001b[39m\u001b[38;5;124mtestPubSub\u001b[39m\u001b[38;5;124m'\u001b[39m, json_data)\n\u001b[0;32m     16\u001b[0m \u001b[38;5;66;03m#print(r.get('testPubSub'))\u001b[39;00m\n\u001b[1;32m---> 18\u001b[0m time\u001b[38;5;241m.\u001b[39msleep(random\u001b[38;5;241m.\u001b[39muniform(\u001b[38;5;241m1\u001b[39m, \u001b[38;5;241m3\u001b[39m))\n",
      "\u001b[1;31mKeyboardInterrupt\u001b[0m: "
     ]
    }
   ],
   "source": [
    "def generate_random_co2_value():\n",
    "    return round(random.uniform(300, 1000))\n",
    "\n",
    "while True:\n",
    "    current_date = datetime.now().strftime('%Y-%m-%d %H:%M:%S')\n",
    "    co2_value = generate_random_co2_value()\n",
    "    \n",
    "    # Créer un dictionnaire\n",
    "    data = {'date': current_date, 'co2_value': co2_value}\n",
    "    \n",
    "    # Convertir le dictionnaire en format JSON\n",
    "    json_data = json.dumps(data)\n",
    "    \n",
    "    client.publish('testPubSub', json_data)\n",
    "\n",
    "    #print(r.get('testPubSub'))\n",
    "\n",
    "    time.sleep(random.uniform(1, 3))"
   ]
  },
  {
   "cell_type": "markdown",
   "metadata": {},
   "source": [
    "#### Subscriber"
   ]
  },
  {
   "cell_type": "markdown",
   "metadata": {},
   "source": [
    "Dans le code ci-dessous, la fonction <code>pubsub()</code> va définir le comportement du client et la fonction <code>psubscribe()</code> va dire que le client connecté est \"abonné\" aux messages publiés dans la chaîne \"testPubSub\".    \n",
    "Et elle executera toutes les minutes un calcul de la moyenne des valeurs de CO2 que le client a reçu dans la dernière minute.\n",
    "<br>  "
   ]
  },
  {
   "cell_type": "code",
   "execution_count": null,
   "metadata": {},
   "outputs": [],
   "source": [
    "def func():\n",
    "    global my_list\n",
    "    #\n",
    "    # Calcul de la moyenne\n",
    "    #\n",
    "    if len(my_list) > 0:\n",
    "    \tprint(\"La moyenne des valeurs de CO2 sur la dernière minute est:\", sum(my_list) / len(my_list))\n",
    "    my_list.clear()\n",
    "\n",
    "schedule.every(10).seconds.do(func)\n",
    "\n",
    "p = client.pubsub()\n",
    "p.psubscribe('testPubSub')\n",
    "\n",
    "my_list = []\n",
    "\n",
    "first_message = True\n",
    "\n",
    "while True:\n",
    "    schedule.run_pending()\n",
    "    m = p.get_message()\n",
    "    #schedule.run_pending()\n",
    "    if m != None:\n",
    "       if not first_message:\n",
    "          print('Message reçu:', m['data'])\n",
    "          data_str = m['data']\n",
    "          #data_str = m['data'].decode('utf-8')  # Décoder les bytes en str\n",
    "          data_dict = json.loads(data_str)  # Charger la chaîne JSON en un dictionnaire Python\n",
    "          co2_value = data_dict.get('co2_value')\n",
    "          if co2_value is not None:\n",
    "                my_list.append(co2_value)\n",
    "\n",
    "       else:\n",
    "        print(\"Erreur : ça marche pas\")\n",
    "        first_message = False\n",
    "        time.sleep(1)"
   ]
  },
  {
   "cell_type": "markdown",
   "metadata": {},
   "source": [
    "## MongoDB"
   ]
  },
  {
   "cell_type": "markdown",
   "metadata": {},
   "source": [
    "MongoDB est un SGBD et aussi un gestionnaire **NoSQL** *(Not Only SQL)* qui permet d'adopter le modèle  **JSON** pour sa structure de données.  \n",
    "<br>\n",
    "Afin de se connecter à un serveur MongoDB depuis ce fichier Jupyter Notebook, pour pouvoir expérimenter ce gestionnaire, j'ai fait appel à ***Docker*** en lancant mon serveur depuis un conteneur avec la commande <code>mongosh</code>    \n",
    "<br>"
   ]
  },
  {
   "cell_type": "markdown",
   "metadata": {},
   "source": [
    "#### Les installations et importations nécessaires pour l'expérimentation de MongoDB"
   ]
  },
  {
   "cell_type": "code",
   "execution_count": null,
   "metadata": {},
   "outputs": [],
   "source": [
    "pip install pymongo"
   ]
  },
  {
   "cell_type": "code",
   "execution_count": 33,
   "metadata": {},
   "outputs": [],
   "source": [
    "import pymongo\n",
    "\n",
    "connection = pymongo.MongoClient(host=\"localhost\", port=27017)"
   ]
  },
  {
   "cell_type": "markdown",
   "metadata": {},
   "source": [
    "#### Premiers pas avec MongoDB"
   ]
  },
  {
   "cell_type": "code",
   "execution_count": 44,
   "metadata": {},
   "outputs": [
    {
     "name": "stdout",
     "output_type": "stream",
     "text": [
      "{'_id': ObjectId('6584e0be107b5d654907f2ea'), 'nom': 'nomDeFamille', 'Prenom': 'Nayann'}\n",
      "{'_id': ObjectId('6584e3a3107b5d654907f2f5'), 'nom': 'Andriamisa', 'Prenom': 'Nayann'}\n",
      "{'_id': ObjectId('6584e3a7107b5d654907f2f7'), 'nom': 'Andriamisa', 'Prenom': 'Nayann'}\n",
      "{'_id': ObjectId('6584e3b7107b5d654907f2f9'), 'nom': 'Andriamisa', 'Prenom': 'Nayann'}\n"
     ]
    }
   ],
   "source": [
    "db = connection[\"db_R5A10\"]\n",
    "\n",
    "collection = db[\"test_bd_jupyter\"]\n",
    "\n",
    "# Ajout\n",
    "data = {\"nom\":\"Andriamisa\", \"Prenom\":\"Nayann\"}\n",
    "collection.insert_one(data)\n",
    "data = {\"Date\":\"22-12-2023\", \"Jour\":\"Vendredi\"}\n",
    "collection.insert_one(data)\n",
    "\n",
    "\n",
    "# Modification\n",
    "collection.update_one({\"Date\":\"22-12-2023\"},{\"$set\":{\"Date\":\"23-12-2023\"}})\n",
    "\n",
    "# Suppression\n",
    "collection.delete_many({\"Date\":\"23-12-2023\"})\n",
    "\n",
    "# Consultation\n",
    "for doc in collection.find() :\n",
    "    print(doc)\n"
   ]
  },
  {
   "cell_type": "code",
   "execution_count": null,
   "metadata": {},
   "outputs": [],
   "source": []
  }
 ],
 "metadata": {
  "kernelspec": {
   "display_name": "base",
   "language": "python",
   "name": "python3"
  },
  "language_info": {
   "codemirror_mode": {
    "name": "ipython",
    "version": 3
   },
   "file_extension": ".py",
   "mimetype": "text/x-python",
   "name": "python",
   "nbconvert_exporter": "python",
   "pygments_lexer": "ipython3",
   "version": "3.11.5"
  }
 },
 "nbformat": 4,
 "nbformat_minor": 2
}

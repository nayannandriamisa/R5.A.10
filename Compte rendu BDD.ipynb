{
 "cells": [
  {
   "cell_type": "markdown",
   "metadata": {},
   "source": [
    "## Compte rendu R5.A.10, ANDRIAMISA Nayann, Groupe Nayru"
   ]
  },
  {
   "cell_type": "markdown",
   "metadata": {},
   "source": [
    "#### Les installations :"
   ]
  },
  {
   "cell_type": "code",
   "execution_count": 8,
   "metadata": {},
   "outputs": [
    {
     "name": "stdout",
     "output_type": "stream",
     "text": [
      "Requirement already satisfied: redis in c:\\users\\nayann\\anaconda3\\lib\\site-packages (5.0.1)\n",
      "Note: you may need to restart the kernel to use updated packages.\n"
     ]
    }
   ],
   "source": [
    "pip install redis"
   ]
  },
  {
   "cell_type": "markdown",
   "metadata": {},
   "source": [
    "### Test du filtre bloom sur Redis"
   ]
  },
  {
   "cell_type": "code",
   "execution_count": 12,
   "metadata": {},
   "outputs": [
    {
     "name": "stdout",
     "output_type": "stream",
     "text": [
      "Start to create the bloom filter over 14000 inputs\n",
      "CPU Execution time: 7.90625 seconds\n",
      "We found 1509 duplicates in the input\n"
     ]
    }
   ],
   "source": [
    "import redis\n",
    "import csv\n",
    "from json import dumps\n",
    "import time\n",
    "\n",
    "def perf_bloom(csv_file, n) :\n",
    "    # Créer une connexion à Redis\n",
    "    connection = redis.Redis(host='localhost', port=6380, decode_responses=True)\n",
    "\n",
    "    connection.delete(\"bloom\")\n",
    "    connection.execute_command(\"BF.RESERVE\", \"bloom\", \"0.01\", \"1700000\")\n",
    "\n",
    "    with open(csv_file, encoding='utf-8') as csvfile:\n",
    "        my_reader = csv.DictReader(csvfile, delimiter='\\t')\n",
    "        my_data = [my_row for my_row in my_reader]\n",
    "\n",
    "        pres = dup = 0\n",
    "        print('Start to create the bloom filter over', n, 'inputs')\n",
    "        st = time.process_time()\n",
    "\n",
    "        for my_row in my_data[0:n]:\n",
    "            if not connection.execute_command(\"BF.EXISTS\", \"bloom\", my_row['M']):\n",
    "                connection.execute_command(\"BF.ADD\", \"bloom\", my_row['M'])\n",
    "                pres = pres + 1\n",
    "            else:\n",
    "                dup = dup + 1\n",
    "\n",
    "        et = time.process_time()\n",
    "        res = et - st\n",
    "        print('CPU Execution time:', res, 'seconds')\n",
    "        print('We found', dup, 'duplicates in the input')\n",
    "\n",
    "# Step 1\n",
    "perf_bloom(\"DEMO.csv\", 14000)"
   ]
  },
  {
   "cell_type": "code",
   "execution_count": null,
   "metadata": {},
   "outputs": [],
   "source": [
    "pip install pymongo"
   ]
  },
  {
   "cell_type": "code",
   "execution_count": 6,
   "metadata": {},
   "outputs": [
    {
     "name": "stdout",
     "output_type": "stream",
     "text": [
      "MongoClient(host=['192.168.0.5:27017'], document_class=dict, tz_aware=False, connect=True)\n",
      "Database(MongoClient(host=['192.168.0.5:27017'], document_class=dict, tz_aware=False, connect=True), 'test')\n"
     ]
    }
   ],
   "source": [
    "import pymongo\n",
    "\n",
    "# Connexion à MongoDB\n",
    "client = pymongo.MongoClient(\"mongodb://192.168.0.5:27017/\")\n",
    "\n",
    "print(client)\n",
    "\n",
    "db_name = \"test\"\n",
    "db = client[db_name]\n",
    "print(db)\n"
   ]
  }
 ],
 "metadata": {
  "kernelspec": {
   "display_name": "base",
   "language": "python",
   "name": "python3"
  },
  "language_info": {
   "codemirror_mode": {
    "name": "ipython",
    "version": 3
   },
   "file_extension": ".py",
   "mimetype": "text/x-python",
   "name": "python",
   "nbconvert_exporter": "python",
   "pygments_lexer": "ipython3",
   "version": "3.11.5"
  }
 },
 "nbformat": 4,
 "nbformat_minor": 2
}

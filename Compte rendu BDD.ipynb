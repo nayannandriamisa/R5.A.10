{
 "cells": [
  {
   "cell_type": "markdown",
   "metadata": {},
   "source": [
    "## Compte rendu R5.A.10, ANDRIAMISA Nayann, Groupe Nayru"
   ]
  },
  {
   "cell_type": "markdown",
   "metadata": {},
   "source": [
    "#### Les installations :"
   ]
  },
  {
   "cell_type": "code",
   "execution_count": null,
   "metadata": {},
   "outputs": [],
   "source": [
    "pip install redis"
   ]
  },
  {
   "cell_type": "markdown",
   "metadata": {},
   "source": [
    "### Test du filtre bloom sur Redis"
   ]
  },
  {
   "cell_type": "code",
   "execution_count": null,
   "metadata": {},
   "outputs": [],
   "source": [
    "import redis\n",
    "import csv\n",
    "from json import dumps\n",
    "import time"
   ]
  },
  {
   "cell_type": "code",
   "execution_count": null,
   "metadata": {},
   "outputs": [],
   "source": [
    "def perf_bloom(csv_file, n) :\n",
    "    # Créer une connexion à Redis\n",
    "    r = redis.Redis(host='localhost', port=6380, decode_responses=True)\n",
    "\n",
    "    r.delete(\"bloom\")\n",
    "    r.execute_command(\"BF.RESERVE\", \"bloom\", \"0.01\", \"1700000\")\n",
    "\n",
    "    with open(csv_file, encoding='utf-8') as csvfile:\n",
    "        my_reader = csv.DictReader(csvfile, delimiter='\\t')\n",
    "        my_data = [my_row for my_row in my_reader]\n",
    "\n",
    "        pres = dup = 0\n",
    "        print('Start to create the bloom filter over', n, 'inputs')\n",
    "        st = time.process_time()\n",
    "\n",
    "        for my_row in my_data[0:n]:\n",
    "            if not r.execute_command(\"BF.EXISTS\", \"bloom\", my_row['M']):\n",
    "                r.execute_command(\"BF.ADD\", \"bloom\", my_row['M'])\n",
    "                pres = pres + 1\n",
    "            else:\n",
    "                dup = dup + 1\n",
    "\n",
    "        et = time.process_time()\n",
    "        res = et - st\n",
    "        print('CPU Execution time:', res, 'seconds')\n",
    "        print('We found', dup, 'duplicates in the input')\n",
    "\n",
    "# Step 1\n",
    "perf_bloom(\"DEMO.csv\", 14000)"
   ]
  },
  {
   "cell_type": "markdown",
   "metadata": {},
   "source": [
    "### set py pour des test de performances"
   ]
  },
  {
   "cell_type": "code",
   "execution_count": null,
   "metadata": {},
   "outputs": [],
   "source": [
    "def perf_set(csv_file, n):\n",
    "\n",
    "    r = redis.Redis(host='localhost', port=6380, decode_responses=True)\n",
    "\n",
    "    r.delete(\"my_set\")\n",
    "\n",
    "    with open(csv_file, encoding = 'utf-8') as csvfile:\n",
    "        my_reader = csv.DictReader(csvfile,delimiter='\\t')\n",
    "        my_data = [my_row for my_row in my_reader]\n",
    "        #print(my_data)\n",
    "        pres = dup = 0\n",
    "        print('Start to create the set over',n,'inputs')\n",
    "        # get the start time\n",
    "        st = time.process_time()\n",
    "        for my_row in my_data[0:n]:\n",
    "            #print(my_row['M'])\n",
    "            if not r.sismember(\"my_set\", my_row['M']):\n",
    "                r.sadd(\"my_set\", my_row['M'])\n",
    "                pres = pres + 1\n",
    "            else:\n",
    "                dup = dup + 1\n",
    "        # get the end time\n",
    "        et = time.process_time()\n",
    "        # get execution time\n",
    "        res = et - st\n",
    "        print('CPU Execution time:', res, 'seconds')\n",
    "        print('We found',dup,'duplicates in the input')\n",
    "        print()\n",
    "        print('Wall time (also known as clock time or wall-clock time) is simply the total time')\n",
    "        print('elapsed during the measurement. Itâ€™s the time you can measure with a stopwatch.')\n",
    "        print('It is the difference between the time at which a program finished its execution and')\n",
    "        print('the time at which the program started. It also includes waiting time for resources.')\n",
    "        print()\n",
    "        print('CPU Time, on the other hand, refers to the time the CPU was busy processing')\n",
    "        print('the programâ€™s instructions. The time spent waiting for other task to complete')\n",
    "        print('(like I/O operations) is not included in the CPU time. It does not include')\n",
    "        print('the waiting time for resources.')\n",
    "#Step 1\n",
    " \n",
    "perf_set(\"DEMO.csv\", 1400)"
   ]
  },
  {
   "cell_type": "markdown",
   "metadata": {},
   "source": [
    "### PUB/SUB avec Redis"
   ]
  },
  {
   "cell_type": "code",
   "execution_count": null,
   "metadata": {},
   "outputs": [],
   "source": [
    "r = redis.Redis(host=\"localhost\", port=6380, decode_responses=True)\n",
    "\n",
    "jsonData = {\n",
    "    \"nom\":\"Andriamisa\",\n",
    "    \"prenom\":\"Nayann\"\n",
    "}\n",
    "\n",
    "jsonTest = json.dumps(jsonData)\n",
    "r.publish('testPubSub', jsonTest)\n",
    "print(r.get('testPubSub'))"
   ]
  },
  {
   "cell_type": "code",
   "execution_count": null,
   "metadata": {},
   "outputs": [],
   "source": [
    "pip install schedule"
   ]
  },
  {
   "cell_type": "code",
   "execution_count": null,
   "metadata": {},
   "outputs": [],
   "source": [
    "import json\n",
    "import redis\n",
    "import random\n",
    "from datetime import datetime\n",
    "import time"
   ]
  },
  {
   "cell_type": "markdown",
   "metadata": {},
   "source": [
    "Publisher"
   ]
  },
  {
   "cell_type": "code",
   "execution_count": null,
   "metadata": {},
   "outputs": [],
   "source": [
    "def generate_random_co2_value():\n",
    "    return round(random.uniform(300, 1000))\n",
    "\n",
    "while True:\n",
    "    current_date = datetime.now().strftime('%Y-%m-%d %H:%M:%S')\n",
    "    co2_value = generate_random_co2_value()\n",
    "    \n",
    "    # Créer un dictionnaire\n",
    "    data = {'date': current_date, 'co2_value': co2_value}\n",
    "    \n",
    "    # Convertir le dictionnaire en format JSON\n",
    "    json_data = json.dumps(data)\n",
    "    \n",
    "    r.publish('testPubSub', json_data)\n",
    "\n",
    "    print(r.get('testPubSub'))\n",
    "    \n",
    "    subscriber = r.pubsub()\n",
    "\n",
    "    subscriber.subscribe('testPubSub')\n",
    "\n",
    "    for message in subscriber.listen():\n",
    "        if message['type '] == 'message':\n",
    "            print(f\"Reçu : {message['data'].decode('utf-8')}\")\n",
    "\n",
    "    time.sleep(random.uniform(1, 3))"
   ]
  },
  {
   "cell_type": "markdown",
   "metadata": {},
   "source": [
    "Subscriber"
   ]
  },
  {
   "cell_type": "code",
   "execution_count": null,
   "metadata": {},
   "outputs": [],
   "source": [
    "import redis\n",
    "\n",
    "subscriber = r.pubsub()\n",
    "\n",
    "subscriber.subscribe('testPubSub')\n",
    "\n",
    "for message in subscriber.listen():\n",
    "    if message['type '] == 'message':\n",
    "        print(f\"Reçu : {message['data'].decode('utf-8')}\")"
   ]
  },
  {
   "cell_type": "code",
   "execution_count": null,
   "metadata": {},
   "outputs": [],
   "source": [
    "import redis\n",
    "import schedule\n",
    "import time\n",
    "\n",
    "def func():\n",
    "    global my_list\n",
    "    #\n",
    "    # Calcul de la moyenne\n",
    "    #\n",
    "    if len(my_list) > 0:\n",
    "    \tprint(\"La moyenne des valeurs de CO2 sur la dernière minute est:\", sum(my_list) / len(my_list))\n",
    "    my_list.clear()\n",
    "\n",
    "schedule.every(1).minutes.do(func)\n",
    "\n",
    "r = redis.Redis(host='localhost', port=6380, db=0)\n",
    "\n",
    "p = r.pubsub()\n",
    "p.psubscribe('testPubSub')\n",
    "\n",
    "my_list = []\n",
    "\n",
    "first_message = True\n",
    "\n",
    "while True:\n",
    "    schedule.run_pending()\n",
    "    m = p.get_message()\n",
    "    #schedule.run_pending()\n",
    "    if m != None:\n",
    "       if not first_message:\n",
    "          print('Message reçu:', m['data'])\n",
    "          data_str = m['data'].decode('utf-8')  # Décoder les bytes en str\n",
    "          data_dict = json.loads(data_str)  # Charger la chaîne JSON en un dictionnaire Python\n",
    "          co2_value = data_dict.get('co2_value')\n",
    "          if co2_value is not None:\n",
    "                my_list.append(co2_value)\n",
    "\n",
    "       else:\n",
    "        print(\"Erreur : ça marche pas\")\n",
    "        first_message = False\n",
    "        time.sleep(1)"
   ]
  },
  {
   "cell_type": "code",
   "execution_count": null,
   "metadata": {},
   "outputs": [],
   "source": [
    "pip install pymongo"
   ]
  },
  {
   "cell_type": "code",
   "execution_count": null,
   "metadata": {},
   "outputs": [],
   "source": [
    "import pymongo\n",
    "\n",
    "# Connexion à MongoDB\n",
    "client = pymongo.MongoClient(\"mongodb://192.168.0.5:27017/\")\n",
    "\n",
    "print(client)\n",
    "\n",
    "db_name = \"test\"\n",
    "db = client[db_name]\n",
    "print(db)\n"
   ]
  }
 ],
 "metadata": {
  "kernelspec": {
   "display_name": "base",
   "language": "python",
   "name": "python3"
  },
  "language_info": {
   "codemirror_mode": {
    "name": "ipython",
    "version": 3
   },
   "file_extension": ".py",
   "mimetype": "text/x-python",
   "name": "python",
   "nbconvert_exporter": "python",
   "pygments_lexer": "ipython3",
   "version": "3.11.5"
  }
 },
 "nbformat": 4,
 "nbformat_minor": 2
}

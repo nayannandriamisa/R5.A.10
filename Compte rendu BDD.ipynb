{
 "cells": [
  {
   "cell_type": "markdown",
   "metadata": {},
   "source": [
    "## Compte rendu R5.A.10, ANDRIAMISA Nayann, Groupe Nayru"
   ]
  },
  {
   "cell_type": "markdown",
   "metadata": {},
   "source": [
    "#### Les installations :"
   ]
  },
  {
   "cell_type": "code",
   "execution_count": 8,
   "metadata": {},
   "outputs": [
    {
     "name": "stdout",
     "output_type": "stream",
     "text": [
      "Requirement already satisfied: redis in c:\\users\\nayann\\anaconda3\\lib\\site-packages (5.0.1)\n",
      "Note: you may need to restart the kernel to use updated packages.\n"
     ]
    }
   ],
   "source": [
    "pip install redis"
   ]
  },
  {
   "cell_type": "markdown",
   "metadata": {},
   "source": [
    "### Test du filtre bloom sur Redis"
   ]
  },
  {
   "cell_type": "code",
   "execution_count": 2,
   "metadata": {},
   "outputs": [],
   "source": [
    "import redis\n",
    "import csv\n",
    "from json import dumps\n",
    "import time"
   ]
  },
  {
   "cell_type": "code",
   "execution_count": 12,
   "metadata": {},
   "outputs": [
    {
     "name": "stdout",
     "output_type": "stream",
     "text": [
      "Start to create the bloom filter over 14000 inputs\n",
      "CPU Execution time: 7.90625 seconds\n",
      "We found 1509 duplicates in the input\n"
     ]
    }
   ],
   "source": [
    "def perf_bloom(csv_file, n) :\n",
    "    # Créer une connexion à Redis\n",
    "    r = redis.Redis(host='localhost', port=6380, decode_responses=True)\n",
    "\n",
    "    r.delete(\"bloom\")\n",
    "    r.execute_command(\"BF.RESERVE\", \"bloom\", \"0.01\", \"1700000\")\n",
    "\n",
    "    with open(csv_file, encoding='utf-8') as csvfile:\n",
    "        my_reader = csv.DictReader(csvfile, delimiter='\\t')\n",
    "        my_data = [my_row for my_row in my_reader]\n",
    "\n",
    "        pres = dup = 0\n",
    "        print('Start to create the bloom filter over', n, 'inputs')\n",
    "        st = time.process_time()\n",
    "\n",
    "        for my_row in my_data[0:n]:\n",
    "            if not r.execute_command(\"BF.EXISTS\", \"bloom\", my_row['M']):\n",
    "                r.execute_command(\"BF.ADD\", \"bloom\", my_row['M'])\n",
    "                pres = pres + 1\n",
    "            else:\n",
    "                dup = dup + 1\n",
    "\n",
    "        et = time.process_time()\n",
    "        res = et - st\n",
    "        print('CPU Execution time:', res, 'seconds')\n",
    "        print('We found', dup, 'duplicates in the input')\n",
    "\n",
    "# Step 1\n",
    "perf_bloom(\"DEMO.csv\", 14000)"
   ]
  },
  {
   "cell_type": "markdown",
   "metadata": {},
   "source": [
    "### set py pour des test de performances"
   ]
  },
  {
   "cell_type": "code",
   "execution_count": 6,
   "metadata": {},
   "outputs": [
    {
     "name": "stdout",
     "output_type": "stream",
     "text": [
      "Start to create the set over 1400 inputs\n",
      "CPU Execution time: 0.640625 seconds\n",
      "We found 151 duplicates in the input\n",
      "\n",
      "Wall time (also known as clock time or wall-clock time) is simply the total time\n",
      "elapsed during the measurement. Itâ€™s the time you can measure with a stopwatch.\n",
      "It is the difference between the time at which a program finished its execution and\n",
      "the time at which the program started. It also includes waiting time for resources.\n",
      "\n",
      "CPU Time, on the other hand, refers to the time the CPU was busy processing\n",
      "the programâ€™s instructions. The time spent waiting for other task to complete\n",
      "(like I/O operations) is not included in the CPU time. It does not include\n",
      "the waiting time for resources.\n"
     ]
    }
   ],
   "source": [
    "def perf_set(csv_file, n):\n",
    "\n",
    "    r = redis.Redis(host='localhost', port=6380, decode_responses=True)\n",
    "\n",
    "    r.delete(\"my_set\")\n",
    "\n",
    "    with open(csv_file, encoding = 'utf-8') as csvfile:\n",
    "        my_reader = csv.DictReader(csvfile,delimiter='\\t')\n",
    "        my_data = [my_row for my_row in my_reader]\n",
    "        #print(my_data)\n",
    "        pres = dup = 0\n",
    "        print('Start to create the set over',n,'inputs')\n",
    "        # get the start time\n",
    "        st = time.process_time()\n",
    "        for my_row in my_data[0:n]:\n",
    "            #print(my_row['M'])\n",
    "            if not r.sismember(\"my_set\", my_row['M']):\n",
    "                r.sadd(\"my_set\", my_row['M'])\n",
    "                pres = pres + 1\n",
    "            else:\n",
    "                dup = dup + 1\n",
    "        # get the end time\n",
    "        et = time.process_time()\n",
    "        # get execution time\n",
    "        res = et - st\n",
    "        print('CPU Execution time:', res, 'seconds')\n",
    "        print('We found',dup,'duplicates in the input')\n",
    "        print()\n",
    "        print('Wall time (also known as clock time or wall-clock time) is simply the total time')\n",
    "        print('elapsed during the measurement. Itâ€™s the time you can measure with a stopwatch.')\n",
    "        print('It is the difference between the time at which a program finished its execution and')\n",
    "        print('the time at which the program started. It also includes waiting time for resources.')\n",
    "        print()\n",
    "        print('CPU Time, on the other hand, refers to the time the CPU was busy processing')\n",
    "        print('the programâ€™s instructions. The time spent waiting for other task to complete')\n",
    "        print('(like I/O operations) is not included in the CPU time. It does not include')\n",
    "        print('the waiting time for resources.')\n",
    "#Step 1\n",
    " \n",
    "perf_set(\"DEMO.csv\", 1400)"
   ]
  },
  {
   "cell_type": "markdown",
   "metadata": {},
   "source": [
    "### PUB/SUB avec Redis"
   ]
  },
  {
   "cell_type": "code",
   "execution_count": 28,
   "metadata": {},
   "outputs": [
    {
     "name": "stdout",
     "output_type": "stream",
     "text": [
      "{\"nom\": \"Andriamisa\", \"prenom\": \"Nayann\"}\n"
     ]
    }
   ],
   "source": [
    "r = redis.Redis(host=\"localhost\", port=6380, decode_responses=True)\n",
    "\n",
    "jsonData = {\n",
    "    \"nom\":\"Andriamisa\",\n",
    "    \"prenom\":\"Nayann\"\n",
    "}\n",
    "\n",
    "jsonTest = json.dumps(jsonData)\n",
    "r.publish('testPubSub', jsonTest)\n",
    "print(r.get('testPubSub'))"
   ]
  },
  {
   "cell_type": "code",
   "execution_count": 16,
   "metadata": {},
   "outputs": [
    {
     "name": "stdout",
     "output_type": "stream",
     "text": [
      "Collecting schedule\n",
      "  Obtaining dependency information for schedule from https://files.pythonhosted.org/packages/f0/1a/e5a65c08d708ee4c002f3f938ba69b2282af478755700c40f037eacc92ef/schedule-1.2.1-py2.py3-none-any.whl.metadata\n",
      "  Downloading schedule-1.2.1-py2.py3-none-any.whl.metadata (3.3 kB)\n",
      "Downloading schedule-1.2.1-py2.py3-none-any.whl (11 kB)\n",
      "Installing collected packages: schedule\n",
      "Successfully installed schedule-1.2.1\n",
      "Note: you may need to restart the kernel to use updated packages.\n"
     ]
    }
   ],
   "source": [
    "pip install schedule"
   ]
  },
  {
   "cell_type": "code",
   "execution_count": 13,
   "metadata": {},
   "outputs": [],
   "source": [
    "import json\n",
    "import redis\n",
    "import random\n",
    "from datetime import datetime\n",
    "import time"
   ]
  },
  {
   "cell_type": "markdown",
   "metadata": {},
   "source": [
    "Publisher"
   ]
  },
  {
   "cell_type": "code",
   "execution_count": null,
   "metadata": {},
   "outputs": [
    {
     "name": "stdout",
     "output_type": "stream",
     "text": [
      "{\"date\": \"2023-12-18 18:34:59\", \"co2_value\": 603}\n"
     ]
    },
    {
     "ename": "KeyboardInterrupt",
     "evalue": "",
     "output_type": "error",
     "traceback": [
      "\u001b[1;31m---------------------------------------------------------------------------\u001b[0m",
      "\u001b[1;31mKeyboardInterrupt\u001b[0m                         Traceback (most recent call last)",
      "Cell \u001b[1;32mIn[31], line 18\u001b[0m\n\u001b[0;32m     14\u001b[0m r\u001b[38;5;241m.\u001b[39mpublish(\u001b[38;5;124m'\u001b[39m\u001b[38;5;124mtestPubSub\u001b[39m\u001b[38;5;124m'\u001b[39m, json_data)\n\u001b[0;32m     16\u001b[0m \u001b[38;5;28mprint\u001b[39m(r\u001b[38;5;241m.\u001b[39mget(\u001b[38;5;124m'\u001b[39m\u001b[38;5;124mtestPubSub\u001b[39m\u001b[38;5;124m'\u001b[39m))\n\u001b[1;32m---> 18\u001b[0m time\u001b[38;5;241m.\u001b[39msleep(random\u001b[38;5;241m.\u001b[39muniform(\u001b[38;5;241m1\u001b[39m, \u001b[38;5;241m3\u001b[39m))\n",
      "\u001b[1;31mKeyboardInterrupt\u001b[0m: "
     ]
    }
   ],
   "source": [
    "def generate_random_co2_value():\n",
    "    return round(random.uniform(300, 1000))\n",
    "\n",
    "while True:\n",
    "    current_date = datetime.now().strftime('%Y-%m-%d %H:%M:%S')\n",
    "    co2_value = generate_random_co2_value()\n",
    "    \n",
    "    # Créer un dictionnaire\n",
    "    data = {'date': current_date, 'co2_value': co2_value}\n",
    "    \n",
    "    # Convertir le dictionnaire en format JSON\n",
    "    json_data = json.dumps(data)\n",
    "    \n",
    "    r.publish('testPubSub', json_data)\n",
    "\n",
    "    print(r.get('testPubSub'))\n",
    "    \n",
    "    subscriber = r.pubsub()\n",
    "\n",
    "    subscriber.subscribe('testPubSub')\n",
    "\n",
    "    for message in subscriber.listen():\n",
    "        if message['type '] == 'message':\n",
    "            print(f\"Reçu : {message['data'].decode('utf-8')}\")\n",
    "\n",
    "    time.sleep(random.uniform(1, 3))"
   ]
  },
  {
   "cell_type": "markdown",
   "metadata": {},
   "source": [
    "Subscriber"
   ]
  },
  {
   "cell_type": "code",
   "execution_count": null,
   "metadata": {},
   "outputs": [],
   "source": [
    "import redis\n",
    "\n",
    "subscriber = r.pubsub()\n",
    "\n",
    "subscriber.subscribe('testPubSub')\n",
    "\n",
    "for message in subscriber.listen():\n",
    "    if message['type '] == 'message':\n",
    "        print(f\"Reçu : {message['data'].decode('utf-8')}\")"
   ]
  },
  {
   "cell_type": "code",
   "execution_count": 18,
   "metadata": {},
   "outputs": [
    {
     "name": "stdout",
     "output_type": "stream",
     "text": [
      "Erreur : ça marche pas\n"
     ]
    },
    {
     "ename": "KeyboardInterrupt",
     "evalue": "",
     "output_type": "error",
     "traceback": [
      "\u001b[1;31m---------------------------------------------------------------------------\u001b[0m",
      "\u001b[1;31mKeyboardInterrupt\u001b[0m                         Traceback (most recent call last)",
      "Cell \u001b[1;32mIn[18], line 27\u001b[0m\n\u001b[0;32m     25\u001b[0m \u001b[38;5;28;01mwhile\u001b[39;00m \u001b[38;5;28;01mTrue\u001b[39;00m:\n\u001b[0;32m     26\u001b[0m     schedule\u001b[38;5;241m.\u001b[39mrun_pending()\n\u001b[1;32m---> 27\u001b[0m     m \u001b[38;5;241m=\u001b[39m p\u001b[38;5;241m.\u001b[39mget_message()\n\u001b[0;32m     28\u001b[0m     \u001b[38;5;66;03m#schedule.run_pending()\u001b[39;00m\n\u001b[0;32m     29\u001b[0m     \u001b[38;5;28;01mif\u001b[39;00m m \u001b[38;5;241m!=\u001b[39m \u001b[38;5;28;01mNone\u001b[39;00m:\n",
      "File \u001b[1;32mc:\\Users\\Nayann\\anaconda3\\Lib\\site-packages\\redis\\client.py:1013\u001b[0m, in \u001b[0;36mPubSub.get_message\u001b[1;34m(self, ignore_subscribe_messages, timeout)\u001b[0m\n\u001b[0;32m   1008\u001b[0m     \u001b[38;5;28;01melse\u001b[39;00m:\n\u001b[0;32m   1009\u001b[0m         \u001b[38;5;66;03m# The connection isn't subscribed to any channels or patterns,\u001b[39;00m\n\u001b[0;32m   1010\u001b[0m         \u001b[38;5;66;03m# so no messages are available\u001b[39;00m\n\u001b[0;32m   1011\u001b[0m         \u001b[38;5;28;01mreturn\u001b[39;00m \u001b[38;5;28;01mNone\u001b[39;00m\n\u001b[1;32m-> 1013\u001b[0m response \u001b[38;5;241m=\u001b[39m \u001b[38;5;28mself\u001b[39m\u001b[38;5;241m.\u001b[39mparse_response(block\u001b[38;5;241m=\u001b[39m(timeout \u001b[38;5;129;01mis\u001b[39;00m \u001b[38;5;28;01mNone\u001b[39;00m), timeout\u001b[38;5;241m=\u001b[39mtimeout)\n\u001b[0;32m   1014\u001b[0m \u001b[38;5;28;01mif\u001b[39;00m response:\n\u001b[0;32m   1015\u001b[0m     \u001b[38;5;28;01mreturn\u001b[39;00m \u001b[38;5;28mself\u001b[39m\u001b[38;5;241m.\u001b[39mhandle_message(response, ignore_subscribe_messages)\n",
      "File \u001b[1;32mc:\\Users\\Nayann\\anaconda3\\Lib\\site-packages\\redis\\client.py:824\u001b[0m, in \u001b[0;36mPubSub.parse_response\u001b[1;34m(self, block, timeout)\u001b[0m\n\u001b[0;32m    821\u001b[0m         conn\u001b[38;5;241m.\u001b[39mconnect()\n\u001b[0;32m    822\u001b[0m     \u001b[38;5;28;01mreturn\u001b[39;00m conn\u001b[38;5;241m.\u001b[39mread_response(disconnect_on_error\u001b[38;5;241m=\u001b[39m\u001b[38;5;28;01mFalse\u001b[39;00m, push_request\u001b[38;5;241m=\u001b[39m\u001b[38;5;28;01mTrue\u001b[39;00m)\n\u001b[1;32m--> 824\u001b[0m response \u001b[38;5;241m=\u001b[39m \u001b[38;5;28mself\u001b[39m\u001b[38;5;241m.\u001b[39m_execute(conn, try_read)\n\u001b[0;32m    826\u001b[0m \u001b[38;5;28;01mif\u001b[39;00m \u001b[38;5;28mself\u001b[39m\u001b[38;5;241m.\u001b[39mis_health_check_response(response):\n\u001b[0;32m    827\u001b[0m     \u001b[38;5;66;03m# ignore the health check message as user might not expect it\u001b[39;00m\n\u001b[0;32m    828\u001b[0m     \u001b[38;5;28mself\u001b[39m\u001b[38;5;241m.\u001b[39mhealth_check_response_counter \u001b[38;5;241m-\u001b[39m\u001b[38;5;241m=\u001b[39m \u001b[38;5;241m1\u001b[39m\n",
      "File \u001b[1;32mc:\\Users\\Nayann\\anaconda3\\Lib\\site-packages\\redis\\client.py:800\u001b[0m, in \u001b[0;36mPubSub._execute\u001b[1;34m(self, conn, command, *args, **kwargs)\u001b[0m\n\u001b[0;32m    792\u001b[0m \u001b[38;5;28;01mdef\u001b[39;00m \u001b[38;5;21m_execute\u001b[39m(\u001b[38;5;28mself\u001b[39m, conn, command, \u001b[38;5;241m*\u001b[39margs, \u001b[38;5;241m*\u001b[39m\u001b[38;5;241m*\u001b[39mkwargs):\n\u001b[0;32m    793\u001b[0m \u001b[38;5;250m    \u001b[39m\u001b[38;5;124;03m\"\"\"\u001b[39;00m\n\u001b[0;32m    794\u001b[0m \u001b[38;5;124;03m    Connect manually upon disconnection. If the Redis server is down,\u001b[39;00m\n\u001b[0;32m    795\u001b[0m \u001b[38;5;124;03m    this will fail and raise a ConnectionError as desired.\u001b[39;00m\n\u001b[1;32m   (...)\u001b[0m\n\u001b[0;32m    798\u001b[0m \u001b[38;5;124;03m    patterns we were previously listening to\u001b[39;00m\n\u001b[0;32m    799\u001b[0m \u001b[38;5;124;03m    \"\"\"\u001b[39;00m\n\u001b[1;32m--> 800\u001b[0m     \u001b[38;5;28;01mreturn\u001b[39;00m conn\u001b[38;5;241m.\u001b[39mretry\u001b[38;5;241m.\u001b[39mcall_with_retry(\n\u001b[0;32m    801\u001b[0m         \u001b[38;5;28;01mlambda\u001b[39;00m: command(\u001b[38;5;241m*\u001b[39margs, \u001b[38;5;241m*\u001b[39m\u001b[38;5;241m*\u001b[39mkwargs),\n\u001b[0;32m    802\u001b[0m         \u001b[38;5;28;01mlambda\u001b[39;00m error: \u001b[38;5;28mself\u001b[39m\u001b[38;5;241m.\u001b[39m_disconnect_raise_connect(conn, error),\n\u001b[0;32m    803\u001b[0m     )\n",
      "File \u001b[1;32mc:\\Users\\Nayann\\anaconda3\\Lib\\site-packages\\redis\\retry.py:46\u001b[0m, in \u001b[0;36mRetry.call_with_retry\u001b[1;34m(self, do, fail)\u001b[0m\n\u001b[0;32m     44\u001b[0m \u001b[38;5;28;01mwhile\u001b[39;00m \u001b[38;5;28;01mTrue\u001b[39;00m:\n\u001b[0;32m     45\u001b[0m     \u001b[38;5;28;01mtry\u001b[39;00m:\n\u001b[1;32m---> 46\u001b[0m         \u001b[38;5;28;01mreturn\u001b[39;00m do()\n\u001b[0;32m     47\u001b[0m     \u001b[38;5;28;01mexcept\u001b[39;00m \u001b[38;5;28mself\u001b[39m\u001b[38;5;241m.\u001b[39m_supported_errors \u001b[38;5;28;01mas\u001b[39;00m error:\n\u001b[0;32m     48\u001b[0m         failures \u001b[38;5;241m+\u001b[39m\u001b[38;5;241m=\u001b[39m \u001b[38;5;241m1\u001b[39m\n",
      "File \u001b[1;32mc:\\Users\\Nayann\\anaconda3\\Lib\\site-packages\\redis\\client.py:801\u001b[0m, in \u001b[0;36mPubSub._execute.<locals>.<lambda>\u001b[1;34m()\u001b[0m\n\u001b[0;32m    792\u001b[0m \u001b[38;5;28;01mdef\u001b[39;00m \u001b[38;5;21m_execute\u001b[39m(\u001b[38;5;28mself\u001b[39m, conn, command, \u001b[38;5;241m*\u001b[39margs, \u001b[38;5;241m*\u001b[39m\u001b[38;5;241m*\u001b[39mkwargs):\n\u001b[0;32m    793\u001b[0m \u001b[38;5;250m    \u001b[39m\u001b[38;5;124;03m\"\"\"\u001b[39;00m\n\u001b[0;32m    794\u001b[0m \u001b[38;5;124;03m    Connect manually upon disconnection. If the Redis server is down,\u001b[39;00m\n\u001b[0;32m    795\u001b[0m \u001b[38;5;124;03m    this will fail and raise a ConnectionError as desired.\u001b[39;00m\n\u001b[1;32m   (...)\u001b[0m\n\u001b[0;32m    798\u001b[0m \u001b[38;5;124;03m    patterns we were previously listening to\u001b[39;00m\n\u001b[0;32m    799\u001b[0m \u001b[38;5;124;03m    \"\"\"\u001b[39;00m\n\u001b[0;32m    800\u001b[0m     \u001b[38;5;28;01mreturn\u001b[39;00m conn\u001b[38;5;241m.\u001b[39mretry\u001b[38;5;241m.\u001b[39mcall_with_retry(\n\u001b[1;32m--> 801\u001b[0m         \u001b[38;5;28;01mlambda\u001b[39;00m: command(\u001b[38;5;241m*\u001b[39margs, \u001b[38;5;241m*\u001b[39m\u001b[38;5;241m*\u001b[39mkwargs),\n\u001b[0;32m    802\u001b[0m         \u001b[38;5;28;01mlambda\u001b[39;00m error: \u001b[38;5;28mself\u001b[39m\u001b[38;5;241m.\u001b[39m_disconnect_raise_connect(conn, error),\n\u001b[0;32m    803\u001b[0m     )\n",
      "File \u001b[1;32mc:\\Users\\Nayann\\anaconda3\\Lib\\site-packages\\redis\\client.py:818\u001b[0m, in \u001b[0;36mPubSub.parse_response.<locals>.try_read\u001b[1;34m()\u001b[0m\n\u001b[0;32m    816\u001b[0m \u001b[38;5;28;01mdef\u001b[39;00m \u001b[38;5;21mtry_read\u001b[39m():\n\u001b[0;32m    817\u001b[0m     \u001b[38;5;28;01mif\u001b[39;00m \u001b[38;5;129;01mnot\u001b[39;00m block:\n\u001b[1;32m--> 818\u001b[0m         \u001b[38;5;28;01mif\u001b[39;00m \u001b[38;5;129;01mnot\u001b[39;00m conn\u001b[38;5;241m.\u001b[39mcan_read(timeout\u001b[38;5;241m=\u001b[39mtimeout):\n\u001b[0;32m    819\u001b[0m             \u001b[38;5;28;01mreturn\u001b[39;00m \u001b[38;5;28;01mNone\u001b[39;00m\n\u001b[0;32m    820\u001b[0m     \u001b[38;5;28;01melse\u001b[39;00m:\n",
      "File \u001b[1;32mc:\\Users\\Nayann\\anaconda3\\Lib\\site-packages\\redis\\connection.py:478\u001b[0m, in \u001b[0;36mAbstractConnection.can_read\u001b[1;34m(self, timeout)\u001b[0m\n\u001b[0;32m    475\u001b[0m host_error \u001b[38;5;241m=\u001b[39m \u001b[38;5;28mself\u001b[39m\u001b[38;5;241m.\u001b[39m_host_error()\n\u001b[0;32m    477\u001b[0m \u001b[38;5;28;01mtry\u001b[39;00m:\n\u001b[1;32m--> 478\u001b[0m     \u001b[38;5;28;01mreturn\u001b[39;00m \u001b[38;5;28mself\u001b[39m\u001b[38;5;241m.\u001b[39m_parser\u001b[38;5;241m.\u001b[39mcan_read(timeout)\n\u001b[0;32m    479\u001b[0m \u001b[38;5;28;01mexcept\u001b[39;00m \u001b[38;5;167;01mOSError\u001b[39;00m \u001b[38;5;28;01mas\u001b[39;00m e:\n\u001b[0;32m    480\u001b[0m     \u001b[38;5;28mself\u001b[39m\u001b[38;5;241m.\u001b[39mdisconnect()\n",
      "File \u001b[1;32mc:\\Users\\Nayann\\anaconda3\\Lib\\site-packages\\redis\\_parsers\\base.py:128\u001b[0m, in \u001b[0;36m_RESPBase.can_read\u001b[1;34m(self, timeout)\u001b[0m\n\u001b[0;32m    127\u001b[0m \u001b[38;5;28;01mdef\u001b[39;00m \u001b[38;5;21mcan_read\u001b[39m(\u001b[38;5;28mself\u001b[39m, timeout):\n\u001b[1;32m--> 128\u001b[0m     \u001b[38;5;28;01mreturn\u001b[39;00m \u001b[38;5;28mself\u001b[39m\u001b[38;5;241m.\u001b[39m_buffer \u001b[38;5;129;01mand\u001b[39;00m \u001b[38;5;28mself\u001b[39m\u001b[38;5;241m.\u001b[39m_buffer\u001b[38;5;241m.\u001b[39mcan_read(timeout)\n",
      "File \u001b[1;32mc:\\Users\\Nayann\\anaconda3\\Lib\\site-packages\\redis\\_parsers\\socket.py:95\u001b[0m, in \u001b[0;36mSocketBuffer.can_read\u001b[1;34m(self, timeout)\u001b[0m\n\u001b[0;32m     94\u001b[0m \u001b[38;5;28;01mdef\u001b[39;00m \u001b[38;5;21mcan_read\u001b[39m(\u001b[38;5;28mself\u001b[39m, timeout: \u001b[38;5;28mfloat\u001b[39m) \u001b[38;5;241m-\u001b[39m\u001b[38;5;241m>\u001b[39m \u001b[38;5;28mbool\u001b[39m:\n\u001b[1;32m---> 95\u001b[0m     \u001b[38;5;28;01mreturn\u001b[39;00m \u001b[38;5;28mbool\u001b[39m(\u001b[38;5;28mself\u001b[39m\u001b[38;5;241m.\u001b[39munread_bytes()) \u001b[38;5;129;01mor\u001b[39;00m \u001b[38;5;28mself\u001b[39m\u001b[38;5;241m.\u001b[39m_read_from_socket(\n\u001b[0;32m     96\u001b[0m         timeout\u001b[38;5;241m=\u001b[39mtimeout, raise_on_timeout\u001b[38;5;241m=\u001b[39m\u001b[38;5;28;01mFalse\u001b[39;00m\n\u001b[0;32m     97\u001b[0m     )\n",
      "File \u001b[1;32mc:\\Users\\Nayann\\anaconda3\\Lib\\site-packages\\redis\\_parsers\\socket.py:92\u001b[0m, in \u001b[0;36mSocketBuffer._read_from_socket\u001b[1;34m(self, length, timeout, raise_on_timeout)\u001b[0m\n\u001b[0;32m     90\u001b[0m buf\u001b[38;5;241m.\u001b[39mseek(current_pos)\n\u001b[0;32m     91\u001b[0m \u001b[38;5;28;01mif\u001b[39;00m custom_timeout:\n\u001b[1;32m---> 92\u001b[0m     sock\u001b[38;5;241m.\u001b[39msettimeout(\u001b[38;5;28mself\u001b[39m\u001b[38;5;241m.\u001b[39msocket_timeout)\n",
      "\u001b[1;31mKeyboardInterrupt\u001b[0m: "
     ]
    }
   ],
   "source": [
    "import redis\n",
    "import schedule\n",
    "import time\n",
    "\n",
    "def func():\n",
    "    global my_list\n",
    "    #\n",
    "    # Calcul de la moyenne\n",
    "    #\n",
    "    if len(my_list) > 0:\n",
    "    \tprint(\"La moyenne des valeurs de CO2 sur la dernière minute est:\", sum(my_list) / len(my_list))\n",
    "    my_list.clear()\n",
    "\n",
    "schedule.every(1).minutes.do(func)\n",
    "\n",
    "r = redis.Redis(host='localhost', port=6380, db=0)\n",
    "\n",
    "p = r.pubsub()\n",
    "p.psubscribe('testPubSub')\n",
    "\n",
    "my_list = []\n",
    "\n",
    "first_message = True\n",
    "\n",
    "while True:\n",
    "    schedule.run_pending()\n",
    "    m = p.get_message()\n",
    "    #schedule.run_pending()\n",
    "    if m != None:\n",
    "       if not first_message:\n",
    "          print('Message reçu:', m['data'])\n",
    "          data_str = m['data'].decode('utf-8')  # Décoder les bytes en str\n",
    "          data_dict = json.loads(data_str)  # Charger la chaîne JSON en un dictionnaire Python\n",
    "          co2_value = data_dict.get('co2_value')\n",
    "          if co2_value is not None:\n",
    "                my_list.append(co2_value)\n",
    "\n",
    "       else:\n",
    "        print(\"Erreur : ça marche pas\")\n",
    "        first_message = False\n",
    "        time.sleep(1)"
   ]
  },
  {
   "cell_type": "code",
   "execution_count": null,
   "metadata": {},
   "outputs": [],
   "source": [
    "pip install pymongo"
   ]
  },
  {
   "cell_type": "code",
   "execution_count": 6,
   "metadata": {},
   "outputs": [
    {
     "name": "stdout",
     "output_type": "stream",
     "text": [
      "MongoClient(host=['192.168.0.5:27017'], document_class=dict, tz_aware=False, connect=True)\n",
      "Database(MongoClient(host=['192.168.0.5:27017'], document_class=dict, tz_aware=False, connect=True), 'test')\n"
     ]
    }
   ],
   "source": [
    "import pymongo\n",
    "\n",
    "# Connexion à MongoDB\n",
    "client = pymongo.MongoClient(\"mongodb://192.168.0.5:27017/\")\n",
    "\n",
    "print(client)\n",
    "\n",
    "db_name = \"test\"\n",
    "db = client[db_name]\n",
    "print(db)\n"
   ]
  }
 ],
 "metadata": {
  "kernelspec": {
   "display_name": "base",
   "language": "python",
   "name": "python3"
  },
  "language_info": {
   "codemirror_mode": {
    "name": "ipython",
    "version": 3
   },
   "file_extension": ".py",
   "mimetype": "text/x-python",
   "name": "python",
   "nbconvert_exporter": "python",
   "pygments_lexer": "ipython3",
   "version": "3.11.5"
  }
 },
 "nbformat": 4,
 "nbformat_minor": 2
}
